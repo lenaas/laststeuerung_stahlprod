{
 "cells": [
  {
   "cell_type": "markdown",
   "id": "831a6711-1215-4cd1-9d39-0242ef9dcd90",
   "metadata": {},
   "source": [
    "# Project 2 - Optimal Steel Production and Storage Plan "
   ]
  },
  {
   "cell_type": "markdown",
   "id": "f7e054e6-a7f6-41f1-99b7-c14b45ab91cd",
   "metadata": {
    "tags": []
   },
   "source": [
    "## Introduction to the project"
   ]
  },
  {
   "cell_type": "markdown",
   "id": "3407c00a-deb6-47d2-be13-470d163bdcf4",
   "metadata": {
    "tags": []
   },
   "source": [
    "### Objective"
   ]
  },
  {
   "cell_type": "markdown",
   "id": "a865e383-2ca5-4217-8a5d-6dd081643b73",
   "metadata": {},
   "source": [
    "The goal of the modeling is to find out at which location a charging station should be built and of what type it should be. \n",
    "\n",
    "In **task 1**, the goal is to find the location while minimizing the investment costs. \n",
    "\n",
    "In **task 2** the investment costs should still remain minimal. Furthermore, the Euclidean distance between the district and the location of the charging station, where the citizens of the district charge their vehicles, should not exceed 2 km. \n",
    "\n",
    "In **task 3**, locations for charging stations are to be selected in such a way that a maximum of €1.8 million in investment costs is not exceeded. Here, too, the maximum distance between the district and the charging station serving the district should not exceed 2 km. "
   ]
  },
  {
   "cell_type": "markdown",
   "id": "8eb2c7a1-d608-40e9-9d49-c32678535142",
   "metadata": {
    "tags": []
   },
   "source": [
    "### Data set"
   ]
  },
  {
   "cell_type": "markdown",
   "id": "24658c13-cf48-476e-9c5b-040a99d102a4",
   "metadata": {},
   "source": [
    "The dataset consists of two csv files: \n",
    "\n",
    "* 'production_data.csv':<br />\n",
    "    Contains the numbers and coordinates of possible locations for\n",
    "    charging stations.\n",
    "\n",
    "* 'actuals.csv':<br />\n",
    "    Contains the coordinates as well as the demand from the districts.\n"
   ]
  },
  {
   "cell_type": "markdown",
   "id": "a3edb5d8-45cf-442d-bab0-a40db9e3af67",
   "metadata": {
    "tags": []
   },
   "source": [
    "## Mathematical Modeling"
   ]
  },
  {
   "cell_type": "markdown",
   "id": "8821152d-82b9-4b5b-b108-6d78018002b1",
   "metadata": {},
   "source": [
    "Every model consists of five essential parts. \n",
    "\n",
    "1. The *index set* is introduced to ensure consistent numbering of parameters and decision variables. It's the same for every task.\n",
    "2. The *parameters* control the operation of the Gurobi solvers. They must be modified before the optimization begins.\n",
    "3. The *decision variables* are the variables we're interested in. The aim of the optimization is to get values for the decision variables so the objective function is minimized / maximized.\n",
    "4. The *objective function* is the function which has to be minimized or maximized.\n",
    "5. The *constraints* limit the possible solution set of the objective function to get appropriate values for the decision variables according to the framework. \n",
    "\n",
    "In the following, the model consisting of these five parts can be viewed for each of the tasks. The index set is not subject to change here."
   ]
  },
  {
   "cell_type": "markdown",
   "id": "18fe7b78-6638-4f53-bda9-4779262c4cdd",
   "metadata": {
    "tags": []
   },
   "source": [
    "### Task 1"
   ]
  },
  {
   "cell_type": "markdown",
   "id": "bff53157-e1f9-4471-83c3-84360401f6b2",
   "metadata": {
    "tags": []
   },
   "source": [
    "#### Index sets"
   ]
  },
  {
   "cell_type": "markdown",
   "id": "b25f6478-705e-4893-9865-fe48e1b6dc15",
   "metadata": {},
   "source": [
    "$T = \\{1...44\\}$: Set of timesteps."
   ]
  },
  {
   "cell_type": "markdown",
   "id": "b5ab2152-3720-4077-b390-6b8b80e21e41",
   "metadata": {
    "tags": []
   },
   "source": [
    "#### Parameters"
   ]
  },
  {
   "cell_type": "markdown",
   "id": "494ceed0-ef7d-43e8-a41c-f7853da0b444",
   "metadata": {},
   "source": [
    "$d_t \\in \\mathbb{N}_0$: Demand in period $t$.\n",
    "\n",
    "$c_t \\in \\mathbb{N}$ Production cost per unit in period $t$.\n",
    "\n",
    "$c_{setup} = 2000$: Setup cost if production is running $.\n",
    "\n",
    "$c_{storage} = 20$: Cost of storing a ton of steel $.\n",
    "\n",
    "$rev = 1000$: Revenue per ton of steel $.\n",
    "\n",
    "$s_{max} = 20$: Maximum storage size.\n",
    "\n",
    "$s_0 = 15$: Initial stored amount.\n",
    "\n",
    "$p_{max} = 50$: Production limit per period."
   ]
  },
  {
   "cell_type": "markdown",
   "id": "81d4f791-9a5b-431b-a7b8-8efb64bab946",
   "metadata": {},
   "source": [
    "#### Decision variables"
   ]
  },
  {
   "cell_type": "markdown",
   "id": "310c8ca9-c74e-4b8a-9946-fe3f70484fa2",
   "metadata": {},
   "source": [
    "$s_{t} \\in \\mathbb{N_0}$: Stored amount in period $t$.\n",
    "\n",
    "$s_{t}^{+} \\in \\mathbb{N_0}$: Amount sent to storage in period t.\n",
    "\n",
    "$s_{t}^{-} \\in \\mathbb{N_0}$: Amount withdrawn from storage in period t.\n",
    "\n",
    "$p_{t} \\in \\mathbb{N_0}$: Produced amount in period t.\n",
    "\n",
    "$producing_{t} =\n",
    "\\begin{cases}\n",
    "    1, & \\text{if } p_{t} > 0. \\\\\n",
    "    0, & \\text{if } p_{t} = 0.\n",
    "\\end{cases}$"
   ]
  },
  {
   "cell_type": "markdown",
   "id": "b5509f60-b839-4e28-bd67-d9a84e2c374d",
   "metadata": {},
   "source": [
    "#### Objective function"
   ]
  },
  {
   "cell_type": "markdown",
   "id": "fc019597-b72e-4046-8eeb-301b6fdcde10",
   "metadata": {},
   "source": [
    "- **Costs**. Minimize investment costs.\n",
    " \n",
    "\n",
    "\\begin{equation}\n",
    "\\text{Max}\\quad Z = \n",
    "\\sum_{t=1}^{T}\n",
    "rev*(p_{t}+s_{t}^{-}-s_{t}^{+})\n",
    "-producing_{t}*c_{setup}\n",
    "-p_{t}*\\bar{c_{t}}\n",
    "-s_{t}*c\\_storage\n",
    "\\tag{0}\n",
    "\\end{equation}"
   ]
  },
  {
   "cell_type": "markdown",
   "id": "a1c21d2b-ce16-46d5-b2be-1a3a2ea3c841",
   "metadata": {},
   "source": [
    "#### Constraints"
   ]
  },
  {
   "cell_type": "markdown",
   "id": "865d8b86-f67f-443c-90b3-6dd747b51e3b",
   "metadata": {},
   "source": [
    "- **Delivery**. Delivered amount should equal demand\n",
    "\\begin{equation}\n",
    "d_t = (p_{t}+s_{t}^{-}-s_{t}^{+})\\enspace \\forall t \n",
    "\\tag{1}\n",
    "\\end{equation}\n",
    "\n",
    "- **Production**. Production may never excede $p_{max}$\n",
    "\n",
    "\\begin{equation}\n",
    "0 \\leq p_t \\leq p_{max} \\enspace \\forall t\n",
    "\\tag{2}\n",
    "\\end{equation}\n",
    "\n",
    "- **Storage**. The stored amount may never fall below 0 or rise above $s_{max}$\n",
    "\n",
    "\\begin{equation}\n",
    "0\\leq s_t \\leq s_{max} \\enspace \\forall t\n",
    "\\tag{3}\n",
    "\\end{equation}\n",
    "\n",
    "- **Continuity**. Storage amount has to be consistent in time.\n",
    "\n",
    "\\begin{equation}\n",
    "s_t = s_{t-1} + s_{t-1}^+ - s_{t-1}^- \\enspace \\forall t\n",
    "\\tag{4}\n",
    "\\end{equation}"
   ]
  },
  {
   "cell_type": "markdown",
   "id": "f2bad67a-8db1-4752-ab96-b1b3f3973726",
   "metadata": {
    "tags": []
   },
   "source": [
    "### Task 2"
   ]
  },
  {
   "cell_type": "markdown",
   "id": "f4e4b700-7a1d-434c-9432-48d557a8997b",
   "metadata": {
    "tags": []
   },
   "source": [
    "#### Index sets"
   ]
  },
  {
   "cell_type": "markdown",
   "id": "fe05a116-35f8-49f6-ba64-c11ec6789aea",
   "metadata": {},
   "source": [
    "$T \\in \\{1...44\\}$: Index and set of districts."
   ]
  },
  {
   "cell_type": "markdown",
   "id": "02e99015-384a-41df-a598-71f408965bff",
   "metadata": {
    "tags": []
   },
   "source": [
    "#### Parameters"
   ]
  },
  {
   "cell_type": "markdown",
   "id": "9e49057a-1bad-4566-aa58-669123af6a03",
   "metadata": {},
   "source": [
    "$d_t \\in \\mathbb{N}_0$: Demand in period $t$.\n",
    "\n",
    "$c_t \\in \\mathbb{N}$ Production cost per unit in period $t$.\n",
    "\n",
    "$c_{setup} = 2000$: Setup cost if production is running $.\n",
    "\n",
    "$c_{storage} = 20$: Cost of storing a ton of steel $.\n",
    "\n",
    "$rev = 1000$: Revenue per ton of steel $.\n",
    "\n",
    "$s_{max} = 20$: Maximum storage size.\n",
    "\n",
    "$s_0 = 15$: Initial stored amount.\n",
    "\n",
    "$p_{max} = 50$: Production limit per period."
   ]
  },
  {
   "cell_type": "markdown",
   "id": "b36db4c4-2478-403d-a0d2-4b6105f57f5d",
   "metadata": {},
   "source": [
    "#### Decision variables"
   ]
  },
  {
   "cell_type": "markdown",
   "id": "513d72ed-f867-4893-85b0-be5e2bcd41c8",
   "metadata": {},
   "source": [
    "$s_{t} \\in \\mathbb{N_0}$: Stored amount in period $t$.\n",
    "\n",
    "$s_{t}^{+} \\in \\mathbb{N_0}$: Amount sent to storage in period t.\n",
    "\n",
    "$s_{t}^{-} \\in \\mathbb{N_0}$: Amount withdrawn from storage in period t.\n",
    "\n",
    "$p_{t} \\in \\mathbb{N_0}$: Produced amount in period t.\n",
    "\n",
    "$producing_{t} =\n",
    "\\begin{cases}\n",
    "    1, & \\text{if } p_{t} > 0. \\\\\n",
    "    0, & \\text{if } p_{t} = 0.\n",
    "\\end{cases}$"
   ]
  },
  {
   "cell_type": "markdown",
   "id": "b6147eec-8c3e-4483-bbb3-86c2748ab603",
   "metadata": {},
   "source": [
    "#### Objective function"
   ]
  },
  {
   "cell_type": "markdown",
   "id": "ba44143a-ccd6-42ea-925d-3d155a9ad180",
   "metadata": {},
   "source": [
    "- **Costs**. Minimize investment costs.\n",
    " \n",
    "\n",
    "\\begin{equation}\n",
    "\\text{Max}\\quad Z = \n",
    "\\sum_{t=1}^{T}\n",
    "rev*(p_{t}+s_{t}^{-}-s_{t}^{+})\n",
    "-producing_{t}*c_{setup}\n",
    "-p_{t}*c_{t}\n",
    "-s_{t}*c\\_storage\n",
    "\\tag{0}\n",
    "\\end{equation}"
   ]
  },
  {
   "cell_type": "markdown",
   "id": "70106db2-63d1-4769-8b22-9d375e750f24",
   "metadata": {},
   "source": [
    "#### Constraints"
   ]
  },
  {
   "cell_type": "markdown",
   "id": "cc6f5056-7b0f-4ae8-973a-2278b69bac3d",
   "metadata": {},
   "source": [
    "- **Delivery**. Delivered amount should equal demand\n",
    "\\begin{equation}\n",
    "d_t = (p_{t}+s_{t}^{-}-s_{t}^{+})\\enspace \\forall t \n",
    "\\tag{1}\n",
    "\\end{equation}\n",
    "\n",
    "- **Production**. Production may never excede $p_{max}$\n",
    "\n",
    "\\begin{equation}\n",
    "0 \\leq p_t \\leq p_{max} \\enspace \\forall t\n",
    "\\tag{2}\n",
    "\\end{equation}\n",
    "\n",
    "- **Storage**. The stored amount may never fall below 0 or rise above $s_{max}$\n",
    "\n",
    "\\begin{equation}\n",
    "0\\leq s_t \\leq s_{max} \\enspace \\forall t\n",
    "\\tag{3}\n",
    "\\end{equation}\n",
    "\n",
    "- **Continuity**. Storage amount has to be consistent in time.\n",
    "\n",
    "\\begin{equation}\n",
    "s_t = s_{t-1} + s_{t-1}^+ - s_{t-1}^- \\enspace \\forall t\n",
    "\\tag{4}\n",
    "\\end{equation}"
   ]
  },
  {
   "cell_type": "markdown",
   "id": "ef4df9f2-0e1c-4274-993a-2baec00bbfc8",
   "metadata": {
    "tags": []
   },
   "source": [
    "### Task 3"
   ]
  },
  {
   "cell_type": "markdown",
   "id": "fa7d1730-7ddf-433a-b0ff-d75ac739c0f4",
   "metadata": {
    "tags": []
   },
   "source": [
    "#### Index sets"
   ]
  },
  {
   "cell_type": "markdown",
   "id": "e6ae3580-9fdd-4c59-b3a4-a831a1309810",
   "metadata": {},
   "source": [
    "$T \\in \\{1...44\\}$: Index and set of districts."
   ]
  },
  {
   "cell_type": "markdown",
   "id": "7380fad6-57e7-49b1-8be2-2bdb97a9967d",
   "metadata": {
    "tags": []
   },
   "source": [
    "#### Parameters"
   ]
  },
  {
   "cell_type": "markdown",
   "id": "9f046b18-8ed8-414f-9d4e-0734b6cfaeb0",
   "metadata": {},
   "source": [
    "$d_t \\in \\mathbb{N}_0$: Demand in period $t$.\n",
    "\n",
    "$c_t \\in \\mathbb{N}$ Production cost per unit in period $t$.\n",
    "\n",
    "$c_{setup} = 2000$: Setup cost if production is running $.\n",
    "\n",
    "$c_{storage} = 20$: Cost of storing a ton of steel $.\n",
    "\n",
    "$f_{storage} = 1000$: Fee per ton of additional storage booked.\n",
    "\n",
    "$rev = 1000$: Revenue per ton of steel $.\n",
    "\n",
    "$s_{max} \\in \\mathbb{N} > 20$: Maximum storage size.\n",
    "\n",
    "$s_0 = 15$: Initial stored amount.\n",
    "\n",
    "$p_{max} = 50$: Production limit per period."
   ]
  },
  {
   "cell_type": "markdown",
   "id": "567296cc-2fe1-43ea-8952-153eb57de8f2",
   "metadata": {},
   "source": [
    "#### Decision variables"
   ]
  },
  {
   "cell_type": "markdown",
   "id": "8fb914e7-dc57-4553-8b6b-4429f2bf6da5",
   "metadata": {},
   "source": [
    "$s_{t} \\in \\mathbb{N_0}$: Stored amount in period $t$.\n",
    "\n",
    "$s_{t}^{+} \\in \\mathbb{N_0}$: Amount sent to storage in period t.\n",
    "\n",
    "$s_{t}^{-} \\in \\mathbb{N_0}$: Amount withdrawn from storage in period t.\n",
    "\n",
    "$p_{t} \\in \\mathbb{N_0}$: Produced amount in period t.\n",
    "\n",
    "$producing_{t} =\n",
    "\\begin{cases}\n",
    "    1, & \\text{if } p_{t} > 0. \\\\\n",
    "    0, & \\text{if } p_{t} = 0.\n",
    "\\end{cases}$"
   ]
  },
  {
   "cell_type": "markdown",
   "id": "fa4614c0-908f-429f-a72d-95f8c5a60220",
   "metadata": {},
   "source": [
    "#### Objective function"
   ]
  },
  {
   "cell_type": "markdown",
   "id": "5e6f867c-cffe-47a3-9b5a-7a73efb16778",
   "metadata": {},
   "source": [
    "- **Costs**. Minimize investment costs.\n",
    " \n",
    "\n",
    "\\begin{equation}\n",
    "\\text{Max}\\quad Z = \n",
    "\\sum_{t=1}^{T}(\n",
    "rev*(p_{t}+s_{t}^{-}-s_{t}^{+})\n",
    "-producing_{t}*c_{setup}\n",
    "-p_{t}*c_{t}\n",
    "-s_{t}*c\\_storage)\n",
    "-(s_{max}-20)*1000\n",
    "\\tag{0}\n",
    "\\end{equation}"
   ]
  },
  {
   "cell_type": "markdown",
   "id": "5baf5b53-11d3-40db-8ca2-689bc1aafa92",
   "metadata": {},
   "source": [
    "#### Constraints"
   ]
  },
  {
   "cell_type": "markdown",
   "id": "eb3a3c49-a2e7-4634-89f7-fbf24317667d",
   "metadata": {},
   "source": [
    "- **Delivery**. Delivered amount should equal demand\n",
    "\\begin{equation}\n",
    "d_t = (p_{t}+s_{t}^{-}-s_{t}^{+})\\enspace \\forall t \n",
    "\\tag{1}\n",
    "\\end{equation}\n",
    "\n",
    "- **Production**. Production may never excede $p_{max}$\n",
    "\n",
    "\\begin{equation}\n",
    "0 \\leq p_t \\leq p_{max} \\enspace \\forall t\n",
    "\\tag{2}\n",
    "\\end{equation}\n",
    "\n",
    "- **Storage**. The stored amount may never fall below 0 or rise above $s_{max}$\n",
    "\n",
    "\\begin{equation}\n",
    "0\\leq s_t \\leq s_{max} \\enspace \\forall t\n",
    "\\tag{3}\n",
    "\\end{equation}\n",
    "\n",
    "- **Continuity**. Storage amount has to be consistent in time.\n",
    "\n",
    "\\begin{equation}\n",
    "s_t = s_{t-1} + s_{t-1}^+ - s_{t-1}^- \\enspace \\forall t\n",
    "\\tag{4}\n",
    "\\end{equation}"
   ]
  },
  {
   "cell_type": "markdown",
   "id": "63ca1d20-92f3-49f4-ae87-b71508441c3e",
   "metadata": {
    "tags": []
   },
   "source": [
    "## Implementation in Python"
   ]
  },
  {
   "cell_type": "markdown",
   "id": "63d796e5-00e7-461f-972e-19c7db593903",
   "metadata": {
    "tags": []
   },
   "source": [
    "### Preparation"
   ]
  },
  {
   "cell_type": "markdown",
   "id": "22f693b5-f8ac-47f5-adc8-897f6f0dd1a3",
   "metadata": {
    "tags": []
   },
   "source": [
    "#### Necessary Imports"
   ]
  },
  {
   "cell_type": "code",
   "execution_count": 1,
   "id": "9b3fd3cf-9ad6-48d2-8cd3-06b660346d59",
   "metadata": {},
   "outputs": [],
   "source": [
    "import gurobipy as gp\n",
    "from gurobipy import GRB\n",
    "import pandas as pd\n",
    "import numpy as np\n",
    "import plotly.express as px\n",
    "import plotly.graph_objects as go\n",
    "from plotly.subplots import make_subplots"
   ]
  },
  {
   "cell_type": "markdown",
   "id": "70846619-a612-4319-8439-76cfae1b784c",
   "metadata": {
    "tags": []
   },
   "source": [
    "#### Read CSV-Files into Dataframe"
   ]
  },
  {
   "cell_type": "code",
   "execution_count": 2,
   "id": "ba47e60a-c3db-41d9-9e47-28a1f65bd5f1",
   "metadata": {},
   "outputs": [],
   "source": [
    "# Read raw data\n",
    "df_prod = pd.read_csv(\"production_data.csv\")\n",
    "df_ac = pd.read_csv(\"actuals.csv\")"
   ]
  },
  {
   "cell_type": "markdown",
   "id": "56efcbe5-988e-4a36-b4be-8f2465179856",
   "metadata": {
    "tags": []
   },
   "source": [
    "### Code for solving the tasks"
   ]
  },
  {
   "cell_type": "code",
   "execution_count": 3,
   "id": "cc8fc0da-e766-4a3a-b3a6-7a9348c2e881",
   "metadata": {},
   "outputs": [],
   "source": [
    "def solve_production(mean_cost=False, added_storage=0):\n",
    "    # Model\n",
    "    m = gp.Model('steel_production_planner')\n",
    "    # Index set\n",
    "    T = [*range(1,45)]\n",
    "    \n",
    "    # Parameters\n",
    "    d = {t:int(df_prod[df_prod[\"Zeit\"] == t][\"Bestellungen [t]\"]) for t in T}\n",
    "    c = {t:int(df_prod[df_prod[\"Zeit\"] == t][\"Produktionskosten [EUR/t]\"]) for t in T}\n",
    "    c_setup = 2000\n",
    "    c_storage = 20\n",
    "    f_storage = 1000\n",
    "    rev = 1000\n",
    "    s_max = 20+added_storage\n",
    "    s_0 = 15\n",
    "    p_max = 50\n",
    "    \n",
    "    # Decision Variables\n",
    "    s  = [*range(1,45)]\n",
    "    y_s = m.addVars(s, vtype=GRB.INTEGER, name='s', lb=0, ub=s_max)\n",
    "    s_p = [*range(1,45)]\n",
    "    y_sp = m.addVars(s_p, vtype=GRB.INTEGER, name='s_p', lb=0)\n",
    "    s_m = [*range(1,45)]\n",
    "    y_sm = m.addVars(s_m, vtype=GRB.INTEGER, name='s_m', lb=0)\n",
    "    p = [*range(1,45)]\n",
    "    y_p = m.addVars(p, vtype=GRB.INTEGER, name='p', lb=0, ub=p_max)\n",
    "    producing = {a:b>0 for a,b in zip(p, y_p)}\n",
    "    \n",
    "    # Objective Function\n",
    "    # takes the form of:\n",
    "    # + revenue\n",
    "    # - setup cost\n",
    "    # - production cost\n",
    "    # - storage cost\n",
    "    # - fee for extra storage\n",
    "    if mean_cost:\n",
    "        m.setObjective(\n",
    "            gp.quicksum(rev*(y_p[t]-y_sp[t]+y_sm[t]) for t in T) \n",
    "            - gp.quicksum(np.mean(producing[t])*c_setup for t in T)\n",
    "            - gp.quicksum(y_p[t]*c[t] for t in T)\n",
    "            - gp.quicksum(y_s[t]*c_storage for t in T)\n",
    "            - (s_max-20)*f_storage,\n",
    "            GRB.MAXIMIZE\n",
    "        )# obviously bad form to recalc mean for each evaluation of the cost function but oh well\n",
    "    else:\n",
    "        m.setObjective(\n",
    "            gp.quicksum(rev*(y_p[t]-y_sp[t]+y_sm[t]) for t in T) \n",
    "            - gp.quicksum(producing[t]*c_setup for t in T)\n",
    "            - gp.quicksum(y_p[t]*c[t] for t in T)\n",
    "            - gp.quicksum(y_s[t]*c_storage for t in T)\n",
    "            - (s_max-20)*f_storage,\n",
    "            GRB.MAXIMIZE\n",
    "        )\n",
    "        \n",
    "    # Constraints\n",
    "    deliveryConstrs = m.addConstrs((d[t] == (y_p[t]-y_sp[t]+y_sm[t]) for t in T), name=\"deliveryConstrs\")\n",
    "    # set storage at t=0 to initial storage with no storage additions or withdrawals\n",
    "    y_s[0] = s_0\n",
    "    y_sp[0] = 0\n",
    "    y_sm[0] = 0\n",
    "    continuityConstrs = m.addConstrs((y_s[t] == y_s[t-1]+y_sp[t-1]-y_sm[t-1] for t in T), name=\"contiConstrs\")\n",
    "    m.optimize()\n",
    "    \n",
    "    # Output\n",
    "    y_s.pop(0, None)\n",
    "    y_sp.pop(0, None)\n",
    "    y_sm.pop(0, None)\n",
    "    \n",
    "    # Visualisation\n",
    "    "
   ]
  },
  {
   "cell_type": "markdown",
   "id": "ffc3e993-fc13-4d09-b218-0fc986a55ce3",
   "metadata": {
    "tags": []
   },
   "source": [
    "## Solution"
   ]
  },
  {
   "cell_type": "markdown",
   "id": "ca40e549-684b-4cb4-bac9-8377e15f5d43",
   "metadata": {
    "tags": []
   },
   "source": [
    "### Task 1"
   ]
  },
  {
   "cell_type": "markdown",
   "id": "aa46b152-1744-436c-9b2a-37515cb37966",
   "metadata": {
    "tags": []
   },
   "source": [
    "### Task 2"
   ]
  },
  {
   "cell_type": "markdown",
   "id": "d8a8fd7a-92e2-4cae-8ee2-58bb651fc7c9",
   "metadata": {
    "tags": []
   },
   "source": [
    "### Task 3"
   ]
  },
  {
   "cell_type": "code",
   "execution_count": 4,
   "id": "8794379c-bc63-4819-b7e5-699ff432ea63",
   "metadata": {},
   "outputs": [],
   "source": [
    "added_storage=0\n",
    "mean_cost=False"
   ]
  },
  {
   "cell_type": "code",
   "execution_count": 5,
   "id": "14fcf1c7-207d-4b83-9ab4-ef76463a695e",
   "metadata": {},
   "outputs": [
    {
     "name": "stdout",
     "output_type": "stream",
     "text": [
      "Set parameter Username\n",
      "Academic license - for non-commercial use only - expires 2023-05-07\n",
      "Gurobi Optimizer version 9.5.1 build v9.5.1rc2 (win64)\n",
      "Thread count: 6 physical cores, 12 logical processors, using up to 12 threads\n",
      "Optimize a model with 88 rows, 176 columns and 305 nonzeros\n",
      "Model fingerprint: 0x4aa95d4c\n",
      "Variable types: 0 continuous, 176 integer (0 binary)\n",
      "Coefficient statistics:\n",
      "  Matrix range     [1e+00, 1e+00]\n",
      "  Objective range  [2e+01, 1e+03]\n",
      "  Bounds range     [2e+01, 5e+01]\n",
      "  RHS range        [1e+00, 3e+01]\n",
      "Found heuristic solution: objective 92640.000000\n",
      "Presolve removed 88 rows and 176 columns\n",
      "Presolve time: 0.00s\n",
      "Presolve: All rows and columns removed\n",
      "\n",
      "Explored 0 nodes (0 simplex iterations) in 0.00 seconds (0.00 work units)\n",
      "Thread count was 1 (of 12 available processors)\n",
      "\n",
      "Solution count 2: 190500 92640 \n",
      "\n",
      "Optimal solution found (tolerance 1.00e-04)\n",
      "Best objective 1.905000000000e+05, best bound 1.905000000000e+05, gap 0.0000%\n"
     ]
    }
   ],
   "source": [
    "\n",
    "# Model\n",
    "m = gp.Model('steel_production_planner')\n",
    "# Index set\n",
    "T = [*range(1,45)]\n",
    "\n",
    "# Parameters\n",
    "d = {t:int(df_prod[df_prod[\"Zeit\"] == t][\"Bestellungen [t]\"]) for t in T}\n",
    "c = {t:int(df_prod[df_prod[\"Zeit\"] == t][\"Produktionskosten [EUR/t]\"]) for t in T}\n",
    "c_setup = 2000\n",
    "c_storage = 20\n",
    "f_storage = 1000\n",
    "rev = 1000\n",
    "s_max = 20+added_storage\n",
    "s_0 = 15\n",
    "p_max = 50\n",
    "\n",
    "# Decision Variables\n",
    "s  = [*range(1,45)]\n",
    "y_s = m.addVars(s, vtype=GRB.INTEGER, name='s', lb=0, ub=s_max)\n",
    "s_p = [*range(1,45)]\n",
    "y_sp = m.addVars(s_p, vtype=GRB.INTEGER, name='s_p', lb=0)\n",
    "s_m = [*range(1,45)]\n",
    "y_sm = m.addVars(s_m, vtype=GRB.INTEGER, name='s_m', lb=0)\n",
    "p = [*range(1,45)]\n",
    "y_p = m.addVars(p, vtype=GRB.INTEGER, name='p', lb=0, ub=p_max)\n",
    "producing = {a:b>0 for a,b in zip(p, y_p)}\n",
    "\n",
    "# Objective Function\n",
    "# takes the form of:\n",
    "# + revenue\n",
    "# - setup cost\n",
    "# - production cost\n",
    "# - storage cost\n",
    "# - fee for extra storage\n",
    "if mean_cost:\n",
    "    m.setObjective(\n",
    "        gp.quicksum(rev*(y_p[t]-y_sp[t]+y_sm[t]) for t in T) \n",
    "        - gp.quicksum(np.mean(producing[t])*c_setup for t in T)\n",
    "        - gp.quicksum(y_p[t]*c[t] for t in T)\n",
    "        - gp.quicksum(y_s[t]*c_storage for t in T)\n",
    "        - (s_max-20)*f_storage,\n",
    "        GRB.MAXIMIZE\n",
    "    )# obviously bad form to recalc mean for each evaluation of the cost function but oh well\n",
    "else:\n",
    "    m.setObjective(\n",
    "        gp.quicksum(rev*(y_p[t]-y_sp[t]+y_sm[t]) for t in T) \n",
    "        - gp.quicksum(producing[t]*c_setup for t in T)\n",
    "        - gp.quicksum(y_p[t]*c[t] for t in T)\n",
    "        - gp.quicksum(y_s[t]*c_storage for t in T)\n",
    "        - (s_max-20)*f_storage,\n",
    "        GRB.MAXIMIZE\n",
    "    )\n",
    "\n",
    "# Constraints\n",
    "deliveryConstrs = m.addConstrs((d[t] == (y_p[t]-y_sp[t]+y_sm[t]) for t in T), name=\"deliveryConstrs\")\n",
    "# set storage at t=0 to initial storage with no storage additions or withdrawals\n",
    "y_s[0] = s_0\n",
    "y_sp[0] = 0\n",
    "y_sm[0] = 0\n",
    "continuityConstrs = m.addConstrs((y_s[t] == y_s[t-1]+y_sp[t-1]-y_sm[t-1] for t in T), name=\"contiConstrs\")\n",
    "m.optimize()"
   ]
  },
  {
   "cell_type": "code",
   "execution_count": 6,
   "id": "52011dfc-14b9-4316-baaf-94c8fd8884d4",
   "metadata": {},
   "outputs": [
    {
     "data": {
      "text/plain": [
       "0"
      ]
     },
     "execution_count": 6,
     "metadata": {},
     "output_type": "execute_result"
    }
   ],
   "source": [
    "y_s.pop(0, None)\n",
    "y_sp.pop(0, None)\n",
    "y_sm.pop(0, None)"
   ]
  },
  {
   "cell_type": "code",
   "execution_count": 67,
   "id": "94f9c4f7",
   "metadata": {},
   "outputs": [
    {
     "data": {
      "text/plain": [
       "dict_values([240, 540, 660, 900, 600, 1060, 960, 1120, 740, 1380, 1380, 1120, 1420, 800, 1180, 960, 1040, 640, 960, 760, 900, 660, 1000, 700, 460, 100, 240, 340, 740, 220, 340, 360, 720, 220, 840, 680, 780, 420, 800, 720, 800, 480, 920, 740])"
      ]
     },
     "execution_count": 67,
     "metadata": {},
     "output_type": "execute_result"
    }
   ],
   "source": [
    "c.values()"
   ]
  },
  {
   "cell_type": "code",
   "execution_count": 70,
   "id": "46f54198",
   "metadata": {},
   "outputs": [
    {
     "ename": "TypeError",
     "evalue": "can't multiply sequence by non-int of type 'dict_values'",
     "output_type": "error",
     "traceback": [
      "\u001b[1;31m---------------------------------------------------------------------------\u001b[0m",
      "\u001b[1;31mTypeError\u001b[0m                                 Traceback (most recent call last)",
      "\u001b[1;32mC:\\Users\\JENNY~1.HIL\\AppData\\Local\\Temp/ipykernel_16852/171049996.py\u001b[0m in \u001b[0;36m<module>\u001b[1;34m\u001b[0m\n\u001b[1;32m----> 1\u001b[1;33m \u001b[1;33m[\u001b[0m\u001b[0mx\u001b[0m\u001b[1;33m.\u001b[0m\u001b[0mX\u001b[0m \u001b[1;32mfor\u001b[0m \u001b[0mx\u001b[0m \u001b[1;32min\u001b[0m \u001b[0my_p\u001b[0m\u001b[1;33m.\u001b[0m\u001b[0mvalues\u001b[0m\u001b[1;33m(\u001b[0m\u001b[1;33m)\u001b[0m\u001b[1;33m]\u001b[0m\u001b[1;33m*\u001b[0m\u001b[0mc\u001b[0m\u001b[1;33m.\u001b[0m\u001b[0mvalues\u001b[0m\u001b[1;33m(\u001b[0m\u001b[1;33m)\u001b[0m\u001b[1;33m\u001b[0m\u001b[1;33m\u001b[0m\u001b[0m\n\u001b[0m",
      "\u001b[1;31mTypeError\u001b[0m: can't multiply sequence by non-int of type 'dict_values'"
     ]
    }
   ],
   "source": [
    "[x.X for x in y_p.values()]*c.values()"
   ]
  },
  {
   "cell_type": "code",
   "execution_count": 85,
   "id": "a7ce6ce1-0006-4422-8282-68e5e94db15d",
   "metadata": {},
   "outputs": [
    {
     "data": {
      "text/html": [
       "<div>\n",
       "<style scoped>\n",
       "    .dataframe tbody tr th:only-of-type {\n",
       "        vertical-align: middle;\n",
       "    }\n",
       "\n",
       "    .dataframe tbody tr th {\n",
       "        vertical-align: top;\n",
       "    }\n",
       "\n",
       "    .dataframe thead th {\n",
       "        text-align: right;\n",
       "    }\n",
       "</style>\n",
       "<table border=\"1\" class=\"dataframe\">\n",
       "  <thead>\n",
       "    <tr style=\"text-align: right;\">\n",
       "      <th></th>\n",
       "      <th>t</th>\n",
       "      <th>storage</th>\n",
       "      <th>storage_added</th>\n",
       "      <th>storage_removed</th>\n",
       "      <th>production</th>\n",
       "      <th>demand</th>\n",
       "      <th>producing</th>\n",
       "      <th>costs</th>\n",
       "    </tr>\n",
       "  </thead>\n",
       "  <tbody>\n",
       "    <tr>\n",
       "      <th>0</th>\n",
       "      <td>1</td>\n",
       "      <td>15.0</td>\n",
       "      <td>5.0</td>\n",
       "      <td>-0.0</td>\n",
       "      <td>27.0</td>\n",
       "      <td>22</td>\n",
       "      <td>True</td>\n",
       "      <td>240</td>\n",
       "    </tr>\n",
       "    <tr>\n",
       "      <th>1</th>\n",
       "      <td>2</td>\n",
       "      <td>20.0</td>\n",
       "      <td>-0.0</td>\n",
       "      <td>0.0</td>\n",
       "      <td>27.0</td>\n",
       "      <td>27</td>\n",
       "      <td>True</td>\n",
       "      <td>540</td>\n",
       "    </tr>\n",
       "    <tr>\n",
       "      <th>2</th>\n",
       "      <td>3</td>\n",
       "      <td>20.0</td>\n",
       "      <td>-0.0</td>\n",
       "      <td>12.0</td>\n",
       "      <td>13.0</td>\n",
       "      <td>25</td>\n",
       "      <td>True</td>\n",
       "      <td>660</td>\n",
       "    </tr>\n",
       "    <tr>\n",
       "      <th>3</th>\n",
       "      <td>4</td>\n",
       "      <td>8.0</td>\n",
       "      <td>-0.0</td>\n",
       "      <td>8.0</td>\n",
       "      <td>0.0</td>\n",
       "      <td>8</td>\n",
       "      <td>True</td>\n",
       "      <td>900</td>\n",
       "    </tr>\n",
       "    <tr>\n",
       "      <th>4</th>\n",
       "      <td>5</td>\n",
       "      <td>-0.0</td>\n",
       "      <td>20.0</td>\n",
       "      <td>-0.0</td>\n",
       "      <td>20.0</td>\n",
       "      <td>0</td>\n",
       "      <td>True</td>\n",
       "      <td>600</td>\n",
       "    </tr>\n",
       "  </tbody>\n",
       "</table>\n",
       "</div>"
      ],
      "text/plain": [
       "   t  storage  storage_added  storage_removed  production  demand  producing  \\\n",
       "0  1     15.0            5.0             -0.0        27.0      22       True   \n",
       "1  2     20.0           -0.0              0.0        27.0      27       True   \n",
       "2  3     20.0           -0.0             12.0        13.0      25       True   \n",
       "3  4      8.0           -0.0              8.0         0.0       8       True   \n",
       "4  5     -0.0           20.0             -0.0        20.0       0       True   \n",
       "\n",
       "   costs  \n",
       "0    240  \n",
       "1    540  \n",
       "2    660  \n",
       "3    900  \n",
       "4    600  "
      ]
     },
     "execution_count": 85,
     "metadata": {},
     "output_type": "execute_result"
    }
   ],
   "source": [
    "df = pd.DataFrame({\n",
    "\"t\" : [i for i in range(1,len(y_s)+1)],\n",
    "\"storage\" : [x.X for x in y_s.values()],\n",
    "\"storage_added\" : [x.X for x in y_sp.values()],\n",
    "\"storage_removed\" : [x.X for x in y_sm.values()],\n",
    "\"production\" : [x.X for x in y_p.values()],\n",
    "\"demand\" : d.values(),\n",
    "\"producing\" : producing.values(),\n",
    "\"costs\" : c.values()\n",
    "})\n",
    "\n",
    "df.head()"
   ]
  },
  {
   "cell_type": "code",
   "execution_count": 115,
   "id": "14e77ba0",
   "metadata": {
    "scrolled": true
   },
   "outputs": [
    {
     "data": {
      "application/vnd.plotly.v1+json": {
       "config": {
        "plotlyServerURL": "https://plot.ly"
       },
       "data": [
        {
         "name": "production",
         "type": "bar",
         "x": [
          1,
          2,
          3,
          4,
          5,
          6,
          7,
          8,
          9,
          10,
          11,
          12,
          13,
          14,
          15,
          16,
          17,
          18,
          19,
          20,
          21,
          22,
          23,
          24,
          25,
          26,
          27,
          28,
          29,
          30,
          31,
          32,
          33,
          34,
          35,
          36,
          37,
          38,
          39,
          40,
          41,
          42,
          43,
          44
         ],
         "xaxis": "x",
         "y": [
          27,
          27,
          13,
          0,
          20,
          6,
          35,
          0,
          25,
          0,
          12,
          19,
          0,
          38,
          0,
          33,
          9,
          50,
          0,
          18,
          4,
          36,
          0,
          22,
          20,
          21,
          12,
          19,
          0,
          35,
          2,
          19,
          0,
          33,
          0,
          0,
          0,
          46,
          0,
          9,
          0,
          24,
          3,
          0
         ],
         "yaxis": "y"
        },
        {
         "name": "storage",
         "type": "bar",
         "x": [
          1,
          2,
          3,
          4,
          5,
          6,
          7,
          8,
          9,
          10,
          11,
          12,
          13,
          14,
          15,
          16,
          17,
          18,
          19,
          20,
          21,
          22,
          23,
          24,
          25,
          26,
          27,
          28,
          29,
          30,
          31,
          32,
          33,
          34,
          35,
          36,
          37,
          38,
          39,
          40,
          41,
          42,
          43,
          44
         ],
         "xaxis": "x2",
         "y": [
          15,
          20,
          20,
          8,
          0,
          20,
          0,
          11,
          0,
          20,
          17,
          0,
          16,
          0,
          20,
          4,
          20,
          0,
          20,
          17,
          20,
          0,
          20,
          1,
          0,
          0,
          20,
          20,
          18,
          0,
          20,
          20,
          13,
          0,
          20,
          10,
          3,
          0,
          20,
          7,
          14,
          0,
          20,
          0
         ],
         "yaxis": "y2"
        },
        {
         "line": {
          "color": "limegreen"
         },
         "name": "added storage",
         "type": "scatter",
         "x": [
          1,
          2,
          3,
          4,
          5,
          6,
          7,
          8,
          9,
          10,
          11,
          12,
          13,
          14,
          15,
          16,
          17,
          18,
          19,
          20,
          21,
          22,
          23,
          24,
          25,
          26,
          27,
          28,
          29,
          30,
          31,
          32,
          33,
          34,
          35,
          36,
          37,
          38,
          39,
          40,
          41,
          42,
          43,
          44
         ],
         "xaxis": "x2",
         "y": [
          5,
          0,
          0,
          0,
          20,
          0,
          11,
          0,
          20,
          0,
          0,
          16,
          0,
          20,
          0,
          16,
          0,
          20,
          0,
          3,
          0,
          20,
          0,
          0,
          0,
          20,
          0,
          0,
          0,
          20,
          0,
          0,
          0,
          20,
          0,
          0,
          0,
          20,
          0,
          7,
          0,
          20,
          0,
          0
         ],
         "yaxis": "y2"
        },
        {
         "line": {
          "color": "red"
         },
         "name": "removed storage",
         "type": "scatter",
         "x": [
          1,
          2,
          3,
          4,
          5,
          6,
          7,
          8,
          9,
          10,
          11,
          12,
          13,
          14,
          15,
          16,
          17,
          18,
          19,
          20,
          21,
          22,
          23,
          24,
          25,
          26,
          27,
          28,
          29,
          30,
          31,
          32,
          33,
          34,
          35,
          36,
          37,
          38,
          39,
          40,
          41,
          42,
          43,
          44
         ],
         "xaxis": "x2",
         "y": [
          0,
          0,
          12,
          8,
          0,
          20,
          0,
          11,
          0,
          3,
          17,
          0,
          16,
          0,
          16,
          0,
          20,
          0,
          3,
          0,
          20,
          0,
          19,
          1,
          0,
          0,
          0,
          2,
          18,
          0,
          0,
          7,
          13,
          0,
          10,
          7,
          3,
          0,
          13,
          0,
          14,
          0,
          20,
          17
         ],
         "yaxis": "y2"
        }
       ],
       "layout": {
        "annotations": [
         {
          "font": {
           "size": 16
          },
          "showarrow": false,
          "text": "Quantity produced for each time period t",
          "x": 0.5,
          "xanchor": "center",
          "xref": "paper",
          "y": 1,
          "yanchor": "bottom",
          "yref": "paper"
         },
         {
          "font": {
           "size": 16
          },
          "showarrow": false,
          "text": "Storage and added/removed quantity for each time period t",
          "x": 0.5,
          "xanchor": "center",
          "xref": "paper",
          "y": 0.375,
          "yanchor": "bottom",
          "yref": "paper"
         }
        ],
        "template": {
         "data": {
          "bar": [
           {
            "error_x": {
             "color": "#2a3f5f"
            },
            "error_y": {
             "color": "#2a3f5f"
            },
            "marker": {
             "line": {
              "color": "#E5ECF6",
              "width": 0.5
             },
             "pattern": {
              "fillmode": "overlay",
              "size": 10,
              "solidity": 0.2
             }
            },
            "type": "bar"
           }
          ],
          "barpolar": [
           {
            "marker": {
             "line": {
              "color": "#E5ECF6",
              "width": 0.5
             },
             "pattern": {
              "fillmode": "overlay",
              "size": 10,
              "solidity": 0.2
             }
            },
            "type": "barpolar"
           }
          ],
          "carpet": [
           {
            "aaxis": {
             "endlinecolor": "#2a3f5f",
             "gridcolor": "white",
             "linecolor": "white",
             "minorgridcolor": "white",
             "startlinecolor": "#2a3f5f"
            },
            "baxis": {
             "endlinecolor": "#2a3f5f",
             "gridcolor": "white",
             "linecolor": "white",
             "minorgridcolor": "white",
             "startlinecolor": "#2a3f5f"
            },
            "type": "carpet"
           }
          ],
          "choropleth": [
           {
            "colorbar": {
             "outlinewidth": 0,
             "ticks": ""
            },
            "type": "choropleth"
           }
          ],
          "contour": [
           {
            "colorbar": {
             "outlinewidth": 0,
             "ticks": ""
            },
            "colorscale": [
             [
              0,
              "#0d0887"
             ],
             [
              0.1111111111111111,
              "#46039f"
             ],
             [
              0.2222222222222222,
              "#7201a8"
             ],
             [
              0.3333333333333333,
              "#9c179e"
             ],
             [
              0.4444444444444444,
              "#bd3786"
             ],
             [
              0.5555555555555556,
              "#d8576b"
             ],
             [
              0.6666666666666666,
              "#ed7953"
             ],
             [
              0.7777777777777778,
              "#fb9f3a"
             ],
             [
              0.8888888888888888,
              "#fdca26"
             ],
             [
              1,
              "#f0f921"
             ]
            ],
            "type": "contour"
           }
          ],
          "contourcarpet": [
           {
            "colorbar": {
             "outlinewidth": 0,
             "ticks": ""
            },
            "type": "contourcarpet"
           }
          ],
          "heatmap": [
           {
            "colorbar": {
             "outlinewidth": 0,
             "ticks": ""
            },
            "colorscale": [
             [
              0,
              "#0d0887"
             ],
             [
              0.1111111111111111,
              "#46039f"
             ],
             [
              0.2222222222222222,
              "#7201a8"
             ],
             [
              0.3333333333333333,
              "#9c179e"
             ],
             [
              0.4444444444444444,
              "#bd3786"
             ],
             [
              0.5555555555555556,
              "#d8576b"
             ],
             [
              0.6666666666666666,
              "#ed7953"
             ],
             [
              0.7777777777777778,
              "#fb9f3a"
             ],
             [
              0.8888888888888888,
              "#fdca26"
             ],
             [
              1,
              "#f0f921"
             ]
            ],
            "type": "heatmap"
           }
          ],
          "heatmapgl": [
           {
            "colorbar": {
             "outlinewidth": 0,
             "ticks": ""
            },
            "colorscale": [
             [
              0,
              "#0d0887"
             ],
             [
              0.1111111111111111,
              "#46039f"
             ],
             [
              0.2222222222222222,
              "#7201a8"
             ],
             [
              0.3333333333333333,
              "#9c179e"
             ],
             [
              0.4444444444444444,
              "#bd3786"
             ],
             [
              0.5555555555555556,
              "#d8576b"
             ],
             [
              0.6666666666666666,
              "#ed7953"
             ],
             [
              0.7777777777777778,
              "#fb9f3a"
             ],
             [
              0.8888888888888888,
              "#fdca26"
             ],
             [
              1,
              "#f0f921"
             ]
            ],
            "type": "heatmapgl"
           }
          ],
          "histogram": [
           {
            "marker": {
             "pattern": {
              "fillmode": "overlay",
              "size": 10,
              "solidity": 0.2
             }
            },
            "type": "histogram"
           }
          ],
          "histogram2d": [
           {
            "colorbar": {
             "outlinewidth": 0,
             "ticks": ""
            },
            "colorscale": [
             [
              0,
              "#0d0887"
             ],
             [
              0.1111111111111111,
              "#46039f"
             ],
             [
              0.2222222222222222,
              "#7201a8"
             ],
             [
              0.3333333333333333,
              "#9c179e"
             ],
             [
              0.4444444444444444,
              "#bd3786"
             ],
             [
              0.5555555555555556,
              "#d8576b"
             ],
             [
              0.6666666666666666,
              "#ed7953"
             ],
             [
              0.7777777777777778,
              "#fb9f3a"
             ],
             [
              0.8888888888888888,
              "#fdca26"
             ],
             [
              1,
              "#f0f921"
             ]
            ],
            "type": "histogram2d"
           }
          ],
          "histogram2dcontour": [
           {
            "colorbar": {
             "outlinewidth": 0,
             "ticks": ""
            },
            "colorscale": [
             [
              0,
              "#0d0887"
             ],
             [
              0.1111111111111111,
              "#46039f"
             ],
             [
              0.2222222222222222,
              "#7201a8"
             ],
             [
              0.3333333333333333,
              "#9c179e"
             ],
             [
              0.4444444444444444,
              "#bd3786"
             ],
             [
              0.5555555555555556,
              "#d8576b"
             ],
             [
              0.6666666666666666,
              "#ed7953"
             ],
             [
              0.7777777777777778,
              "#fb9f3a"
             ],
             [
              0.8888888888888888,
              "#fdca26"
             ],
             [
              1,
              "#f0f921"
             ]
            ],
            "type": "histogram2dcontour"
           }
          ],
          "mesh3d": [
           {
            "colorbar": {
             "outlinewidth": 0,
             "ticks": ""
            },
            "type": "mesh3d"
           }
          ],
          "parcoords": [
           {
            "line": {
             "colorbar": {
              "outlinewidth": 0,
              "ticks": ""
             }
            },
            "type": "parcoords"
           }
          ],
          "pie": [
           {
            "automargin": true,
            "type": "pie"
           }
          ],
          "scatter": [
           {
            "marker": {
             "colorbar": {
              "outlinewidth": 0,
              "ticks": ""
             }
            },
            "type": "scatter"
           }
          ],
          "scatter3d": [
           {
            "line": {
             "colorbar": {
              "outlinewidth": 0,
              "ticks": ""
             }
            },
            "marker": {
             "colorbar": {
              "outlinewidth": 0,
              "ticks": ""
             }
            },
            "type": "scatter3d"
           }
          ],
          "scattercarpet": [
           {
            "marker": {
             "colorbar": {
              "outlinewidth": 0,
              "ticks": ""
             }
            },
            "type": "scattercarpet"
           }
          ],
          "scattergeo": [
           {
            "marker": {
             "colorbar": {
              "outlinewidth": 0,
              "ticks": ""
             }
            },
            "type": "scattergeo"
           }
          ],
          "scattergl": [
           {
            "marker": {
             "colorbar": {
              "outlinewidth": 0,
              "ticks": ""
             }
            },
            "type": "scattergl"
           }
          ],
          "scattermapbox": [
           {
            "marker": {
             "colorbar": {
              "outlinewidth": 0,
              "ticks": ""
             }
            },
            "type": "scattermapbox"
           }
          ],
          "scatterpolar": [
           {
            "marker": {
             "colorbar": {
              "outlinewidth": 0,
              "ticks": ""
             }
            },
            "type": "scatterpolar"
           }
          ],
          "scatterpolargl": [
           {
            "marker": {
             "colorbar": {
              "outlinewidth": 0,
              "ticks": ""
             }
            },
            "type": "scatterpolargl"
           }
          ],
          "scatterternary": [
           {
            "marker": {
             "colorbar": {
              "outlinewidth": 0,
              "ticks": ""
             }
            },
            "type": "scatterternary"
           }
          ],
          "surface": [
           {
            "colorbar": {
             "outlinewidth": 0,
             "ticks": ""
            },
            "colorscale": [
             [
              0,
              "#0d0887"
             ],
             [
              0.1111111111111111,
              "#46039f"
             ],
             [
              0.2222222222222222,
              "#7201a8"
             ],
             [
              0.3333333333333333,
              "#9c179e"
             ],
             [
              0.4444444444444444,
              "#bd3786"
             ],
             [
              0.5555555555555556,
              "#d8576b"
             ],
             [
              0.6666666666666666,
              "#ed7953"
             ],
             [
              0.7777777777777778,
              "#fb9f3a"
             ],
             [
              0.8888888888888888,
              "#fdca26"
             ],
             [
              1,
              "#f0f921"
             ]
            ],
            "type": "surface"
           }
          ],
          "table": [
           {
            "cells": {
             "fill": {
              "color": "#EBF0F8"
             },
             "line": {
              "color": "white"
             }
            },
            "header": {
             "fill": {
              "color": "#C8D4E3"
             },
             "line": {
              "color": "white"
             }
            },
            "type": "table"
           }
          ]
         },
         "layout": {
          "annotationdefaults": {
           "arrowcolor": "#2a3f5f",
           "arrowhead": 0,
           "arrowwidth": 1
          },
          "autotypenumbers": "strict",
          "coloraxis": {
           "colorbar": {
            "outlinewidth": 0,
            "ticks": ""
           }
          },
          "colorscale": {
           "diverging": [
            [
             0,
             "#8e0152"
            ],
            [
             0.1,
             "#c51b7d"
            ],
            [
             0.2,
             "#de77ae"
            ],
            [
             0.3,
             "#f1b6da"
            ],
            [
             0.4,
             "#fde0ef"
            ],
            [
             0.5,
             "#f7f7f7"
            ],
            [
             0.6,
             "#e6f5d0"
            ],
            [
             0.7,
             "#b8e186"
            ],
            [
             0.8,
             "#7fbc41"
            ],
            [
             0.9,
             "#4d9221"
            ],
            [
             1,
             "#276419"
            ]
           ],
           "sequential": [
            [
             0,
             "#0d0887"
            ],
            [
             0.1111111111111111,
             "#46039f"
            ],
            [
             0.2222222222222222,
             "#7201a8"
            ],
            [
             0.3333333333333333,
             "#9c179e"
            ],
            [
             0.4444444444444444,
             "#bd3786"
            ],
            [
             0.5555555555555556,
             "#d8576b"
            ],
            [
             0.6666666666666666,
             "#ed7953"
            ],
            [
             0.7777777777777778,
             "#fb9f3a"
            ],
            [
             0.8888888888888888,
             "#fdca26"
            ],
            [
             1,
             "#f0f921"
            ]
           ],
           "sequentialminus": [
            [
             0,
             "#0d0887"
            ],
            [
             0.1111111111111111,
             "#46039f"
            ],
            [
             0.2222222222222222,
             "#7201a8"
            ],
            [
             0.3333333333333333,
             "#9c179e"
            ],
            [
             0.4444444444444444,
             "#bd3786"
            ],
            [
             0.5555555555555556,
             "#d8576b"
            ],
            [
             0.6666666666666666,
             "#ed7953"
            ],
            [
             0.7777777777777778,
             "#fb9f3a"
            ],
            [
             0.8888888888888888,
             "#fdca26"
            ],
            [
             1,
             "#f0f921"
            ]
           ]
          },
          "colorway": [
           "#636efa",
           "#EF553B",
           "#00cc96",
           "#ab63fa",
           "#FFA15A",
           "#19d3f3",
           "#FF6692",
           "#B6E880",
           "#FF97FF",
           "#FECB52"
          ],
          "font": {
           "color": "#2a3f5f"
          },
          "geo": {
           "bgcolor": "white",
           "lakecolor": "white",
           "landcolor": "#E5ECF6",
           "showlakes": true,
           "showland": true,
           "subunitcolor": "white"
          },
          "hoverlabel": {
           "align": "left"
          },
          "hovermode": "closest",
          "mapbox": {
           "style": "light"
          },
          "paper_bgcolor": "white",
          "plot_bgcolor": "#E5ECF6",
          "polar": {
           "angularaxis": {
            "gridcolor": "white",
            "linecolor": "white",
            "ticks": ""
           },
           "bgcolor": "#E5ECF6",
           "radialaxis": {
            "gridcolor": "white",
            "linecolor": "white",
            "ticks": ""
           }
          },
          "scene": {
           "xaxis": {
            "backgroundcolor": "#E5ECF6",
            "gridcolor": "white",
            "gridwidth": 2,
            "linecolor": "white",
            "showbackground": true,
            "ticks": "",
            "zerolinecolor": "white"
           },
           "yaxis": {
            "backgroundcolor": "#E5ECF6",
            "gridcolor": "white",
            "gridwidth": 2,
            "linecolor": "white",
            "showbackground": true,
            "ticks": "",
            "zerolinecolor": "white"
           },
           "zaxis": {
            "backgroundcolor": "#E5ECF6",
            "gridcolor": "white",
            "gridwidth": 2,
            "linecolor": "white",
            "showbackground": true,
            "ticks": "",
            "zerolinecolor": "white"
           }
          },
          "shapedefaults": {
           "line": {
            "color": "#2a3f5f"
           }
          },
          "ternary": {
           "aaxis": {
            "gridcolor": "white",
            "linecolor": "white",
            "ticks": ""
           },
           "baxis": {
            "gridcolor": "white",
            "linecolor": "white",
            "ticks": ""
           },
           "bgcolor": "#E5ECF6",
           "caxis": {
            "gridcolor": "white",
            "linecolor": "white",
            "ticks": ""
           }
          },
          "title": {
           "x": 0.05
          },
          "xaxis": {
           "automargin": true,
           "gridcolor": "white",
           "linecolor": "white",
           "ticks": "",
           "title": {
            "standoff": 15
           },
           "zerolinecolor": "white",
           "zerolinewidth": 2
          },
          "yaxis": {
           "automargin": true,
           "gridcolor": "white",
           "linecolor": "white",
           "ticks": "",
           "title": {
            "standoff": 15
           },
           "zerolinecolor": "white",
           "zerolinewidth": 2
          }
         }
        },
        "xaxis": {
         "anchor": "y",
         "domain": [
          0,
          1
         ]
        },
        "xaxis2": {
         "anchor": "y2",
         "domain": [
          0,
          1
         ]
        },
        "yaxis": {
         "anchor": "x",
         "domain": [
          0.625,
          1
         ]
        },
        "yaxis2": {
         "anchor": "x2",
         "domain": [
          0,
          0.375
         ]
        }
       }
      },
      "text/html": [
       "<div>                            <div id=\"3638336d-197e-4304-a7c1-503a10e662c7\" class=\"plotly-graph-div\" style=\"height:525px; width:100%;\"></div>            <script type=\"text/javascript\">                require([\"plotly\"], function(Plotly) {                    window.PLOTLYENV=window.PLOTLYENV || {};                                    if (document.getElementById(\"3638336d-197e-4304-a7c1-503a10e662c7\")) {                    Plotly.newPlot(                        \"3638336d-197e-4304-a7c1-503a10e662c7\",                        [{\"name\":\"production\",\"type\":\"bar\",\"x\":[1,2,3,4,5,6,7,8,9,10,11,12,13,14,15,16,17,18,19,20,21,22,23,24,25,26,27,28,29,30,31,32,33,34,35,36,37,38,39,40,41,42,43,44],\"xaxis\":\"x\",\"y\":[27.0,27.0,13.0,0.0,20.0,6.0,35.0,0.0,25.0,0.0,12.0,19.0,0.0,38.0,0.0,33.0,9.0,50.0,0.0,18.0,4.0,36.0,0.0,22.0,20.0,21.0,12.0,19.0,0.0,35.0,2.0,19.0,0.0,33.0,0.0,0.0,0.0,46.0,0.0,9.0,0.0,24.0,3.0,-0.0],\"yaxis\":\"y\"},{\"name\":\"storage\",\"type\":\"bar\",\"x\":[1,2,3,4,5,6,7,8,9,10,11,12,13,14,15,16,17,18,19,20,21,22,23,24,25,26,27,28,29,30,31,32,33,34,35,36,37,38,39,40,41,42,43,44],\"xaxis\":\"x2\",\"y\":[15.0,20.0,20.0,8.0,-0.0,20.0,-0.0,11.0,-0.0,20.0,17.0,-0.0,16.0,-0.0,20.0,4.0,20.0,-0.0,20.0,17.0,20.0,-0.0,20.0,1.0,-0.0,-0.0,20.0,20.0,18.0,-0.0,20.0,20.0,13.0,-0.0,20.0,10.0,3.0,-0.0,20.0,7.0,14.0,-0.0,20.0,-0.0],\"yaxis\":\"y2\"},{\"line\":{\"color\":\"limegreen\"},\"name\":\"added storage\",\"type\":\"scatter\",\"x\":[1,2,3,4,5,6,7,8,9,10,11,12,13,14,15,16,17,18,19,20,21,22,23,24,25,26,27,28,29,30,31,32,33,34,35,36,37,38,39,40,41,42,43,44],\"xaxis\":\"x2\",\"y\":[5.0,-0.0,-0.0,-0.0,20.0,-0.0,11.0,-0.0,20.0,-0.0,-0.0,16.0,-0.0,20.0,-0.0,16.0,-0.0,20.0,-0.0,3.0,-0.0,20.0,-0.0,-0.0,-0.0,20.0,0.0,-0.0,-0.0,20.0,0.0,-0.0,-0.0,20.0,-0.0,-0.0,-0.0,20.0,-0.0,7.0,-0.0,20.0,-0.0,0.0],\"yaxis\":\"y2\"},{\"line\":{\"color\":\"red\"},\"name\":\"removed storage\",\"type\":\"scatter\",\"x\":[1,2,3,4,5,6,7,8,9,10,11,12,13,14,15,16,17,18,19,20,21,22,23,24,25,26,27,28,29,30,31,32,33,34,35,36,37,38,39,40,41,42,43,44],\"xaxis\":\"x2\",\"y\":[-0.0,0.0,12.0,8.0,-0.0,20.0,-0.0,11.0,-0.0,3.0,17.0,-0.0,16.0,-0.0,16.0,-0.0,20.0,-0.0,3.0,-0.0,20.0,-0.0,19.0,1.0,0.0,-0.0,-0.0,2.0,18.0,-0.0,-0.0,7.0,13.0,-0.0,10.0,7.0,3.0,-0.0,13.0,-0.0,14.0,-0.0,20.0,17.0],\"yaxis\":\"y2\"}],                        {\"annotations\":[{\"font\":{\"size\":16},\"showarrow\":false,\"text\":\"Quantity produced for each time period t\",\"x\":0.5,\"xanchor\":\"center\",\"xref\":\"paper\",\"y\":1.0,\"yanchor\":\"bottom\",\"yref\":\"paper\"},{\"font\":{\"size\":16},\"showarrow\":false,\"text\":\"Storage and added/removed quantity for each time period t\",\"x\":0.5,\"xanchor\":\"center\",\"xref\":\"paper\",\"y\":0.375,\"yanchor\":\"bottom\",\"yref\":\"paper\"}],\"template\":{\"data\":{\"bar\":[{\"error_x\":{\"color\":\"#2a3f5f\"},\"error_y\":{\"color\":\"#2a3f5f\"},\"marker\":{\"line\":{\"color\":\"#E5ECF6\",\"width\":0.5},\"pattern\":{\"fillmode\":\"overlay\",\"size\":10,\"solidity\":0.2}},\"type\":\"bar\"}],\"barpolar\":[{\"marker\":{\"line\":{\"color\":\"#E5ECF6\",\"width\":0.5},\"pattern\":{\"fillmode\":\"overlay\",\"size\":10,\"solidity\":0.2}},\"type\":\"barpolar\"}],\"carpet\":[{\"aaxis\":{\"endlinecolor\":\"#2a3f5f\",\"gridcolor\":\"white\",\"linecolor\":\"white\",\"minorgridcolor\":\"white\",\"startlinecolor\":\"#2a3f5f\"},\"baxis\":{\"endlinecolor\":\"#2a3f5f\",\"gridcolor\":\"white\",\"linecolor\":\"white\",\"minorgridcolor\":\"white\",\"startlinecolor\":\"#2a3f5f\"},\"type\":\"carpet\"}],\"choropleth\":[{\"colorbar\":{\"outlinewidth\":0,\"ticks\":\"\"},\"type\":\"choropleth\"}],\"contour\":[{\"colorbar\":{\"outlinewidth\":0,\"ticks\":\"\"},\"colorscale\":[[0.0,\"#0d0887\"],[0.1111111111111111,\"#46039f\"],[0.2222222222222222,\"#7201a8\"],[0.3333333333333333,\"#9c179e\"],[0.4444444444444444,\"#bd3786\"],[0.5555555555555556,\"#d8576b\"],[0.6666666666666666,\"#ed7953\"],[0.7777777777777778,\"#fb9f3a\"],[0.8888888888888888,\"#fdca26\"],[1.0,\"#f0f921\"]],\"type\":\"contour\"}],\"contourcarpet\":[{\"colorbar\":{\"outlinewidth\":0,\"ticks\":\"\"},\"type\":\"contourcarpet\"}],\"heatmap\":[{\"colorbar\":{\"outlinewidth\":0,\"ticks\":\"\"},\"colorscale\":[[0.0,\"#0d0887\"],[0.1111111111111111,\"#46039f\"],[0.2222222222222222,\"#7201a8\"],[0.3333333333333333,\"#9c179e\"],[0.4444444444444444,\"#bd3786\"],[0.5555555555555556,\"#d8576b\"],[0.6666666666666666,\"#ed7953\"],[0.7777777777777778,\"#fb9f3a\"],[0.8888888888888888,\"#fdca26\"],[1.0,\"#f0f921\"]],\"type\":\"heatmap\"}],\"heatmapgl\":[{\"colorbar\":{\"outlinewidth\":0,\"ticks\":\"\"},\"colorscale\":[[0.0,\"#0d0887\"],[0.1111111111111111,\"#46039f\"],[0.2222222222222222,\"#7201a8\"],[0.3333333333333333,\"#9c179e\"],[0.4444444444444444,\"#bd3786\"],[0.5555555555555556,\"#d8576b\"],[0.6666666666666666,\"#ed7953\"],[0.7777777777777778,\"#fb9f3a\"],[0.8888888888888888,\"#fdca26\"],[1.0,\"#f0f921\"]],\"type\":\"heatmapgl\"}],\"histogram\":[{\"marker\":{\"pattern\":{\"fillmode\":\"overlay\",\"size\":10,\"solidity\":0.2}},\"type\":\"histogram\"}],\"histogram2d\":[{\"colorbar\":{\"outlinewidth\":0,\"ticks\":\"\"},\"colorscale\":[[0.0,\"#0d0887\"],[0.1111111111111111,\"#46039f\"],[0.2222222222222222,\"#7201a8\"],[0.3333333333333333,\"#9c179e\"],[0.4444444444444444,\"#bd3786\"],[0.5555555555555556,\"#d8576b\"],[0.6666666666666666,\"#ed7953\"],[0.7777777777777778,\"#fb9f3a\"],[0.8888888888888888,\"#fdca26\"],[1.0,\"#f0f921\"]],\"type\":\"histogram2d\"}],\"histogram2dcontour\":[{\"colorbar\":{\"outlinewidth\":0,\"ticks\":\"\"},\"colorscale\":[[0.0,\"#0d0887\"],[0.1111111111111111,\"#46039f\"],[0.2222222222222222,\"#7201a8\"],[0.3333333333333333,\"#9c179e\"],[0.4444444444444444,\"#bd3786\"],[0.5555555555555556,\"#d8576b\"],[0.6666666666666666,\"#ed7953\"],[0.7777777777777778,\"#fb9f3a\"],[0.8888888888888888,\"#fdca26\"],[1.0,\"#f0f921\"]],\"type\":\"histogram2dcontour\"}],\"mesh3d\":[{\"colorbar\":{\"outlinewidth\":0,\"ticks\":\"\"},\"type\":\"mesh3d\"}],\"parcoords\":[{\"line\":{\"colorbar\":{\"outlinewidth\":0,\"ticks\":\"\"}},\"type\":\"parcoords\"}],\"pie\":[{\"automargin\":true,\"type\":\"pie\"}],\"scatter\":[{\"marker\":{\"colorbar\":{\"outlinewidth\":0,\"ticks\":\"\"}},\"type\":\"scatter\"}],\"scatter3d\":[{\"line\":{\"colorbar\":{\"outlinewidth\":0,\"ticks\":\"\"}},\"marker\":{\"colorbar\":{\"outlinewidth\":0,\"ticks\":\"\"}},\"type\":\"scatter3d\"}],\"scattercarpet\":[{\"marker\":{\"colorbar\":{\"outlinewidth\":0,\"ticks\":\"\"}},\"type\":\"scattercarpet\"}],\"scattergeo\":[{\"marker\":{\"colorbar\":{\"outlinewidth\":0,\"ticks\":\"\"}},\"type\":\"scattergeo\"}],\"scattergl\":[{\"marker\":{\"colorbar\":{\"outlinewidth\":0,\"ticks\":\"\"}},\"type\":\"scattergl\"}],\"scattermapbox\":[{\"marker\":{\"colorbar\":{\"outlinewidth\":0,\"ticks\":\"\"}},\"type\":\"scattermapbox\"}],\"scatterpolar\":[{\"marker\":{\"colorbar\":{\"outlinewidth\":0,\"ticks\":\"\"}},\"type\":\"scatterpolar\"}],\"scatterpolargl\":[{\"marker\":{\"colorbar\":{\"outlinewidth\":0,\"ticks\":\"\"}},\"type\":\"scatterpolargl\"}],\"scatterternary\":[{\"marker\":{\"colorbar\":{\"outlinewidth\":0,\"ticks\":\"\"}},\"type\":\"scatterternary\"}],\"surface\":[{\"colorbar\":{\"outlinewidth\":0,\"ticks\":\"\"},\"colorscale\":[[0.0,\"#0d0887\"],[0.1111111111111111,\"#46039f\"],[0.2222222222222222,\"#7201a8\"],[0.3333333333333333,\"#9c179e\"],[0.4444444444444444,\"#bd3786\"],[0.5555555555555556,\"#d8576b\"],[0.6666666666666666,\"#ed7953\"],[0.7777777777777778,\"#fb9f3a\"],[0.8888888888888888,\"#fdca26\"],[1.0,\"#f0f921\"]],\"type\":\"surface\"}],\"table\":[{\"cells\":{\"fill\":{\"color\":\"#EBF0F8\"},\"line\":{\"color\":\"white\"}},\"header\":{\"fill\":{\"color\":\"#C8D4E3\"},\"line\":{\"color\":\"white\"}},\"type\":\"table\"}]},\"layout\":{\"annotationdefaults\":{\"arrowcolor\":\"#2a3f5f\",\"arrowhead\":0,\"arrowwidth\":1},\"autotypenumbers\":\"strict\",\"coloraxis\":{\"colorbar\":{\"outlinewidth\":0,\"ticks\":\"\"}},\"colorscale\":{\"diverging\":[[0,\"#8e0152\"],[0.1,\"#c51b7d\"],[0.2,\"#de77ae\"],[0.3,\"#f1b6da\"],[0.4,\"#fde0ef\"],[0.5,\"#f7f7f7\"],[0.6,\"#e6f5d0\"],[0.7,\"#b8e186\"],[0.8,\"#7fbc41\"],[0.9,\"#4d9221\"],[1,\"#276419\"]],\"sequential\":[[0.0,\"#0d0887\"],[0.1111111111111111,\"#46039f\"],[0.2222222222222222,\"#7201a8\"],[0.3333333333333333,\"#9c179e\"],[0.4444444444444444,\"#bd3786\"],[0.5555555555555556,\"#d8576b\"],[0.6666666666666666,\"#ed7953\"],[0.7777777777777778,\"#fb9f3a\"],[0.8888888888888888,\"#fdca26\"],[1.0,\"#f0f921\"]],\"sequentialminus\":[[0.0,\"#0d0887\"],[0.1111111111111111,\"#46039f\"],[0.2222222222222222,\"#7201a8\"],[0.3333333333333333,\"#9c179e\"],[0.4444444444444444,\"#bd3786\"],[0.5555555555555556,\"#d8576b\"],[0.6666666666666666,\"#ed7953\"],[0.7777777777777778,\"#fb9f3a\"],[0.8888888888888888,\"#fdca26\"],[1.0,\"#f0f921\"]]},\"colorway\":[\"#636efa\",\"#EF553B\",\"#00cc96\",\"#ab63fa\",\"#FFA15A\",\"#19d3f3\",\"#FF6692\",\"#B6E880\",\"#FF97FF\",\"#FECB52\"],\"font\":{\"color\":\"#2a3f5f\"},\"geo\":{\"bgcolor\":\"white\",\"lakecolor\":\"white\",\"landcolor\":\"#E5ECF6\",\"showlakes\":true,\"showland\":true,\"subunitcolor\":\"white\"},\"hoverlabel\":{\"align\":\"left\"},\"hovermode\":\"closest\",\"mapbox\":{\"style\":\"light\"},\"paper_bgcolor\":\"white\",\"plot_bgcolor\":\"#E5ECF6\",\"polar\":{\"angularaxis\":{\"gridcolor\":\"white\",\"linecolor\":\"white\",\"ticks\":\"\"},\"bgcolor\":\"#E5ECF6\",\"radialaxis\":{\"gridcolor\":\"white\",\"linecolor\":\"white\",\"ticks\":\"\"}},\"scene\":{\"xaxis\":{\"backgroundcolor\":\"#E5ECF6\",\"gridcolor\":\"white\",\"gridwidth\":2,\"linecolor\":\"white\",\"showbackground\":true,\"ticks\":\"\",\"zerolinecolor\":\"white\"},\"yaxis\":{\"backgroundcolor\":\"#E5ECF6\",\"gridcolor\":\"white\",\"gridwidth\":2,\"linecolor\":\"white\",\"showbackground\":true,\"ticks\":\"\",\"zerolinecolor\":\"white\"},\"zaxis\":{\"backgroundcolor\":\"#E5ECF6\",\"gridcolor\":\"white\",\"gridwidth\":2,\"linecolor\":\"white\",\"showbackground\":true,\"ticks\":\"\",\"zerolinecolor\":\"white\"}},\"shapedefaults\":{\"line\":{\"color\":\"#2a3f5f\"}},\"ternary\":{\"aaxis\":{\"gridcolor\":\"white\",\"linecolor\":\"white\",\"ticks\":\"\"},\"baxis\":{\"gridcolor\":\"white\",\"linecolor\":\"white\",\"ticks\":\"\"},\"bgcolor\":\"#E5ECF6\",\"caxis\":{\"gridcolor\":\"white\",\"linecolor\":\"white\",\"ticks\":\"\"}},\"title\":{\"x\":0.05},\"xaxis\":{\"automargin\":true,\"gridcolor\":\"white\",\"linecolor\":\"white\",\"ticks\":\"\",\"title\":{\"standoff\":15},\"zerolinecolor\":\"white\",\"zerolinewidth\":2},\"yaxis\":{\"automargin\":true,\"gridcolor\":\"white\",\"linecolor\":\"white\",\"ticks\":\"\",\"title\":{\"standoff\":15},\"zerolinecolor\":\"white\",\"zerolinewidth\":2}}},\"xaxis\":{\"anchor\":\"y\",\"domain\":[0.0,1.0]},\"xaxis2\":{\"anchor\":\"y2\",\"domain\":[0.0,1.0]},\"yaxis\":{\"anchor\":\"x\",\"domain\":[0.625,1.0]},\"yaxis2\":{\"anchor\":\"x2\",\"domain\":[0.0,0.375]}},                        {\"responsive\": true}                    ).then(function(){\n",
       "                            \n",
       "var gd = document.getElementById('3638336d-197e-4304-a7c1-503a10e662c7');\n",
       "var x = new MutationObserver(function (mutations, observer) {{\n",
       "        var display = window.getComputedStyle(gd).display;\n",
       "        if (!display || display === 'none') {{\n",
       "            console.log([gd, 'removed!']);\n",
       "            Plotly.purge(gd);\n",
       "            observer.disconnect();\n",
       "        }}\n",
       "}});\n",
       "\n",
       "// Listen for the removal of the full notebook cells\n",
       "var notebookContainer = gd.closest('#notebook-container');\n",
       "if (notebookContainer) {{\n",
       "    x.observe(notebookContainer, {childList: true});\n",
       "}}\n",
       "\n",
       "// Listen for the clearing of the current output cell\n",
       "var outputEl = gd.closest('.output');\n",
       "if (outputEl) {{\n",
       "    x.observe(outputEl, {childList: true});\n",
       "}}\n",
       "\n",
       "                        })                };                });            </script>        </div>"
      ]
     },
     "metadata": {},
     "output_type": "display_data"
    }
   ],
   "source": [
    "fig1 = make_subplots(rows=2, cols=1, subplot_titles=(\"Quantity produced for each time period t\", \"Storage and added/removed quantity for each time period t\"))\n",
    "\n",
    "fig1.append_trace(go.Bar(\n",
    "    x=df[\"t\"],\n",
    "    y=df[\"production\"],\n",
    "    name=\"production\"\n",
    "), row=1, col=1)\n",
    "\n",
    "fig1.append_trace(go.Bar(\n",
    "    x=df[\"t\"],\n",
    "    y=df[\"storage\"],\n",
    "    name=\"storage\"\n",
    "), row=2, col=1)\n",
    "\n",
    "fig1.append_trace(go.Scatter(\n",
    "    x=df[\"t\"],\n",
    "    y=df[\"storage_added\"],\n",
    "    line_color=\"limegreen\",\n",
    "    name=\"added storage\"\n",
    "), row=2, col=1)\n",
    "\n",
    "fig1.append_trace(go.Scatter(\n",
    "    x=df[\"t\"],\n",
    "    y=df[\"storage_removed\"],\n",
    "    line_color=\"red\",\n",
    "    name=\"removed storage\"\n",
    "), row=2, col=1)\n",
    "\n",
    "fig1.show()"
   ]
  },
  {
   "cell_type": "code",
   "execution_count": 124,
   "id": "64ee7a2a",
   "metadata": {},
   "outputs": [
    {
     "data": {
      "application/vnd.plotly.v1+json": {
       "config": {
        "plotlyServerURL": "https://plot.ly"
       },
       "data": [
        {
         "name": "costs",
         "type": "scatter",
         "x": [
          1,
          2,
          3,
          4,
          5,
          6,
          7,
          8,
          9,
          10,
          11,
          12,
          13,
          14,
          15,
          16,
          17,
          18,
          19,
          20,
          21,
          22,
          23,
          24,
          25,
          26,
          27,
          28,
          29,
          30,
          31,
          32,
          33,
          34,
          35,
          36,
          37,
          38,
          39,
          40,
          41,
          42,
          43,
          44
         ],
         "xaxis": "x",
         "y": [
          8780,
          16980,
          10980,
          2160,
          14000,
          8760,
          35600,
          2220,
          20500,
          2400,
          18900,
          23280,
          2320,
          32400,
          2400,
          33760,
          11760,
          34000,
          2400,
          16020,
          6000,
          25760,
          2400,
          17420,
          11200,
          4100,
          5280,
          8860,
          2360,
          9700,
          3080,
          9240,
          2260,
          9260,
          2400,
          2200,
          2060,
          21320,
          2400,
          8620,
          2280,
          13520,
          5160,
          2000
         ],
         "yaxis": "y"
        },
        {
         "name": "demand",
         "type": "bar",
         "x": [
          1,
          2,
          3,
          4,
          5,
          6,
          7,
          8,
          9,
          10,
          11,
          12,
          13,
          14,
          15,
          16,
          17,
          18,
          19,
          20,
          21,
          22,
          23,
          24,
          25,
          26,
          27,
          28,
          29,
          30,
          31,
          32,
          33,
          34,
          35,
          36,
          37,
          38,
          39,
          40,
          41,
          42,
          43,
          44
         ],
         "xaxis": "x",
         "y": [
          22,
          27,
          25,
          8,
          0,
          26,
          24,
          11,
          5,
          3,
          29,
          3,
          16,
          18,
          16,
          17,
          29,
          30,
          3,
          15,
          24,
          16,
          19,
          23,
          20,
          1,
          12,
          21,
          18,
          15,
          2,
          26,
          13,
          13,
          10,
          7,
          3,
          26,
          13,
          2,
          14,
          4,
          23,
          17
         ],
         "yaxis": "y"
        },
        {
         "name": "storage capacity",
         "type": "scatter",
         "x": [
          1,
          2,
          3,
          4,
          5,
          6,
          7,
          8,
          9,
          10,
          11,
          12,
          13,
          14,
          15,
          16,
          17,
          18,
          19,
          20,
          21,
          22,
          23,
          24,
          25,
          26,
          27,
          28,
          29,
          30,
          31,
          32,
          33,
          34,
          35,
          36,
          37,
          38,
          39,
          40,
          41,
          42,
          43,
          44
         ],
         "xaxis": "x2",
         "y": [
          5,
          0,
          0,
          12,
          20,
          0,
          20,
          9,
          20,
          0,
          3,
          20,
          4,
          20,
          0,
          16,
          0,
          20,
          0,
          3,
          0,
          20,
          0,
          19,
          20,
          20,
          0,
          0,
          2,
          20,
          0,
          0,
          7,
          20,
          0,
          10,
          17,
          20,
          0,
          13,
          6,
          20,
          0,
          20
         ],
         "yaxis": "y2"
        },
        {
         "name": "production capacity",
         "type": "scatter",
         "x": [
          1,
          2,
          3,
          4,
          5,
          6,
          7,
          8,
          9,
          10,
          11,
          12,
          13,
          14,
          15,
          16,
          17,
          18,
          19,
          20,
          21,
          22,
          23,
          24,
          25,
          26,
          27,
          28,
          29,
          30,
          31,
          32,
          33,
          34,
          35,
          36,
          37,
          38,
          39,
          40,
          41,
          42,
          43,
          44
         ],
         "xaxis": "x2",
         "y": [
          23,
          23,
          37,
          50,
          30,
          44,
          15,
          50,
          25,
          50,
          38,
          31,
          50,
          12,
          50,
          17,
          41,
          0,
          50,
          32,
          46,
          14,
          50,
          28,
          30,
          29,
          38,
          31,
          50,
          15,
          48,
          31,
          50,
          17,
          50,
          50,
          50,
          4,
          50,
          41,
          50,
          26,
          47,
          50
         ],
         "yaxis": "y2"
        }
       ],
       "layout": {
        "annotations": [
         {
          "font": {
           "size": 16
          },
          "showarrow": false,
          "text": "Demand and costs for each time period t",
          "x": 0.5,
          "xanchor": "center",
          "xref": "paper",
          "y": 1,
          "yanchor": "bottom",
          "yref": "paper"
         },
         {
          "font": {
           "size": 16
          },
          "showarrow": false,
          "text": "Storage and production capacity for each time period t",
          "x": 0.5,
          "xanchor": "center",
          "xref": "paper",
          "y": 0.375,
          "yanchor": "bottom",
          "yref": "paper"
         }
        ],
        "template": {
         "data": {
          "bar": [
           {
            "error_x": {
             "color": "#2a3f5f"
            },
            "error_y": {
             "color": "#2a3f5f"
            },
            "marker": {
             "line": {
              "color": "#E5ECF6",
              "width": 0.5
             },
             "pattern": {
              "fillmode": "overlay",
              "size": 10,
              "solidity": 0.2
             }
            },
            "type": "bar"
           }
          ],
          "barpolar": [
           {
            "marker": {
             "line": {
              "color": "#E5ECF6",
              "width": 0.5
             },
             "pattern": {
              "fillmode": "overlay",
              "size": 10,
              "solidity": 0.2
             }
            },
            "type": "barpolar"
           }
          ],
          "carpet": [
           {
            "aaxis": {
             "endlinecolor": "#2a3f5f",
             "gridcolor": "white",
             "linecolor": "white",
             "minorgridcolor": "white",
             "startlinecolor": "#2a3f5f"
            },
            "baxis": {
             "endlinecolor": "#2a3f5f",
             "gridcolor": "white",
             "linecolor": "white",
             "minorgridcolor": "white",
             "startlinecolor": "#2a3f5f"
            },
            "type": "carpet"
           }
          ],
          "choropleth": [
           {
            "colorbar": {
             "outlinewidth": 0,
             "ticks": ""
            },
            "type": "choropleth"
           }
          ],
          "contour": [
           {
            "colorbar": {
             "outlinewidth": 0,
             "ticks": ""
            },
            "colorscale": [
             [
              0,
              "#0d0887"
             ],
             [
              0.1111111111111111,
              "#46039f"
             ],
             [
              0.2222222222222222,
              "#7201a8"
             ],
             [
              0.3333333333333333,
              "#9c179e"
             ],
             [
              0.4444444444444444,
              "#bd3786"
             ],
             [
              0.5555555555555556,
              "#d8576b"
             ],
             [
              0.6666666666666666,
              "#ed7953"
             ],
             [
              0.7777777777777778,
              "#fb9f3a"
             ],
             [
              0.8888888888888888,
              "#fdca26"
             ],
             [
              1,
              "#f0f921"
             ]
            ],
            "type": "contour"
           }
          ],
          "contourcarpet": [
           {
            "colorbar": {
             "outlinewidth": 0,
             "ticks": ""
            },
            "type": "contourcarpet"
           }
          ],
          "heatmap": [
           {
            "colorbar": {
             "outlinewidth": 0,
             "ticks": ""
            },
            "colorscale": [
             [
              0,
              "#0d0887"
             ],
             [
              0.1111111111111111,
              "#46039f"
             ],
             [
              0.2222222222222222,
              "#7201a8"
             ],
             [
              0.3333333333333333,
              "#9c179e"
             ],
             [
              0.4444444444444444,
              "#bd3786"
             ],
             [
              0.5555555555555556,
              "#d8576b"
             ],
             [
              0.6666666666666666,
              "#ed7953"
             ],
             [
              0.7777777777777778,
              "#fb9f3a"
             ],
             [
              0.8888888888888888,
              "#fdca26"
             ],
             [
              1,
              "#f0f921"
             ]
            ],
            "type": "heatmap"
           }
          ],
          "heatmapgl": [
           {
            "colorbar": {
             "outlinewidth": 0,
             "ticks": ""
            },
            "colorscale": [
             [
              0,
              "#0d0887"
             ],
             [
              0.1111111111111111,
              "#46039f"
             ],
             [
              0.2222222222222222,
              "#7201a8"
             ],
             [
              0.3333333333333333,
              "#9c179e"
             ],
             [
              0.4444444444444444,
              "#bd3786"
             ],
             [
              0.5555555555555556,
              "#d8576b"
             ],
             [
              0.6666666666666666,
              "#ed7953"
             ],
             [
              0.7777777777777778,
              "#fb9f3a"
             ],
             [
              0.8888888888888888,
              "#fdca26"
             ],
             [
              1,
              "#f0f921"
             ]
            ],
            "type": "heatmapgl"
           }
          ],
          "histogram": [
           {
            "marker": {
             "pattern": {
              "fillmode": "overlay",
              "size": 10,
              "solidity": 0.2
             }
            },
            "type": "histogram"
           }
          ],
          "histogram2d": [
           {
            "colorbar": {
             "outlinewidth": 0,
             "ticks": ""
            },
            "colorscale": [
             [
              0,
              "#0d0887"
             ],
             [
              0.1111111111111111,
              "#46039f"
             ],
             [
              0.2222222222222222,
              "#7201a8"
             ],
             [
              0.3333333333333333,
              "#9c179e"
             ],
             [
              0.4444444444444444,
              "#bd3786"
             ],
             [
              0.5555555555555556,
              "#d8576b"
             ],
             [
              0.6666666666666666,
              "#ed7953"
             ],
             [
              0.7777777777777778,
              "#fb9f3a"
             ],
             [
              0.8888888888888888,
              "#fdca26"
             ],
             [
              1,
              "#f0f921"
             ]
            ],
            "type": "histogram2d"
           }
          ],
          "histogram2dcontour": [
           {
            "colorbar": {
             "outlinewidth": 0,
             "ticks": ""
            },
            "colorscale": [
             [
              0,
              "#0d0887"
             ],
             [
              0.1111111111111111,
              "#46039f"
             ],
             [
              0.2222222222222222,
              "#7201a8"
             ],
             [
              0.3333333333333333,
              "#9c179e"
             ],
             [
              0.4444444444444444,
              "#bd3786"
             ],
             [
              0.5555555555555556,
              "#d8576b"
             ],
             [
              0.6666666666666666,
              "#ed7953"
             ],
             [
              0.7777777777777778,
              "#fb9f3a"
             ],
             [
              0.8888888888888888,
              "#fdca26"
             ],
             [
              1,
              "#f0f921"
             ]
            ],
            "type": "histogram2dcontour"
           }
          ],
          "mesh3d": [
           {
            "colorbar": {
             "outlinewidth": 0,
             "ticks": ""
            },
            "type": "mesh3d"
           }
          ],
          "parcoords": [
           {
            "line": {
             "colorbar": {
              "outlinewidth": 0,
              "ticks": ""
             }
            },
            "type": "parcoords"
           }
          ],
          "pie": [
           {
            "automargin": true,
            "type": "pie"
           }
          ],
          "scatter": [
           {
            "marker": {
             "colorbar": {
              "outlinewidth": 0,
              "ticks": ""
             }
            },
            "type": "scatter"
           }
          ],
          "scatter3d": [
           {
            "line": {
             "colorbar": {
              "outlinewidth": 0,
              "ticks": ""
             }
            },
            "marker": {
             "colorbar": {
              "outlinewidth": 0,
              "ticks": ""
             }
            },
            "type": "scatter3d"
           }
          ],
          "scattercarpet": [
           {
            "marker": {
             "colorbar": {
              "outlinewidth": 0,
              "ticks": ""
             }
            },
            "type": "scattercarpet"
           }
          ],
          "scattergeo": [
           {
            "marker": {
             "colorbar": {
              "outlinewidth": 0,
              "ticks": ""
             }
            },
            "type": "scattergeo"
           }
          ],
          "scattergl": [
           {
            "marker": {
             "colorbar": {
              "outlinewidth": 0,
              "ticks": ""
             }
            },
            "type": "scattergl"
           }
          ],
          "scattermapbox": [
           {
            "marker": {
             "colorbar": {
              "outlinewidth": 0,
              "ticks": ""
             }
            },
            "type": "scattermapbox"
           }
          ],
          "scatterpolar": [
           {
            "marker": {
             "colorbar": {
              "outlinewidth": 0,
              "ticks": ""
             }
            },
            "type": "scatterpolar"
           }
          ],
          "scatterpolargl": [
           {
            "marker": {
             "colorbar": {
              "outlinewidth": 0,
              "ticks": ""
             }
            },
            "type": "scatterpolargl"
           }
          ],
          "scatterternary": [
           {
            "marker": {
             "colorbar": {
              "outlinewidth": 0,
              "ticks": ""
             }
            },
            "type": "scatterternary"
           }
          ],
          "surface": [
           {
            "colorbar": {
             "outlinewidth": 0,
             "ticks": ""
            },
            "colorscale": [
             [
              0,
              "#0d0887"
             ],
             [
              0.1111111111111111,
              "#46039f"
             ],
             [
              0.2222222222222222,
              "#7201a8"
             ],
             [
              0.3333333333333333,
              "#9c179e"
             ],
             [
              0.4444444444444444,
              "#bd3786"
             ],
             [
              0.5555555555555556,
              "#d8576b"
             ],
             [
              0.6666666666666666,
              "#ed7953"
             ],
             [
              0.7777777777777778,
              "#fb9f3a"
             ],
             [
              0.8888888888888888,
              "#fdca26"
             ],
             [
              1,
              "#f0f921"
             ]
            ],
            "type": "surface"
           }
          ],
          "table": [
           {
            "cells": {
             "fill": {
              "color": "#EBF0F8"
             },
             "line": {
              "color": "white"
             }
            },
            "header": {
             "fill": {
              "color": "#C8D4E3"
             },
             "line": {
              "color": "white"
             }
            },
            "type": "table"
           }
          ]
         },
         "layout": {
          "annotationdefaults": {
           "arrowcolor": "#2a3f5f",
           "arrowhead": 0,
           "arrowwidth": 1
          },
          "autotypenumbers": "strict",
          "coloraxis": {
           "colorbar": {
            "outlinewidth": 0,
            "ticks": ""
           }
          },
          "colorscale": {
           "diverging": [
            [
             0,
             "#8e0152"
            ],
            [
             0.1,
             "#c51b7d"
            ],
            [
             0.2,
             "#de77ae"
            ],
            [
             0.3,
             "#f1b6da"
            ],
            [
             0.4,
             "#fde0ef"
            ],
            [
             0.5,
             "#f7f7f7"
            ],
            [
             0.6,
             "#e6f5d0"
            ],
            [
             0.7,
             "#b8e186"
            ],
            [
             0.8,
             "#7fbc41"
            ],
            [
             0.9,
             "#4d9221"
            ],
            [
             1,
             "#276419"
            ]
           ],
           "sequential": [
            [
             0,
             "#0d0887"
            ],
            [
             0.1111111111111111,
             "#46039f"
            ],
            [
             0.2222222222222222,
             "#7201a8"
            ],
            [
             0.3333333333333333,
             "#9c179e"
            ],
            [
             0.4444444444444444,
             "#bd3786"
            ],
            [
             0.5555555555555556,
             "#d8576b"
            ],
            [
             0.6666666666666666,
             "#ed7953"
            ],
            [
             0.7777777777777778,
             "#fb9f3a"
            ],
            [
             0.8888888888888888,
             "#fdca26"
            ],
            [
             1,
             "#f0f921"
            ]
           ],
           "sequentialminus": [
            [
             0,
             "#0d0887"
            ],
            [
             0.1111111111111111,
             "#46039f"
            ],
            [
             0.2222222222222222,
             "#7201a8"
            ],
            [
             0.3333333333333333,
             "#9c179e"
            ],
            [
             0.4444444444444444,
             "#bd3786"
            ],
            [
             0.5555555555555556,
             "#d8576b"
            ],
            [
             0.6666666666666666,
             "#ed7953"
            ],
            [
             0.7777777777777778,
             "#fb9f3a"
            ],
            [
             0.8888888888888888,
             "#fdca26"
            ],
            [
             1,
             "#f0f921"
            ]
           ]
          },
          "colorway": [
           "#636efa",
           "#EF553B",
           "#00cc96",
           "#ab63fa",
           "#FFA15A",
           "#19d3f3",
           "#FF6692",
           "#B6E880",
           "#FF97FF",
           "#FECB52"
          ],
          "font": {
           "color": "#2a3f5f"
          },
          "geo": {
           "bgcolor": "white",
           "lakecolor": "white",
           "landcolor": "#E5ECF6",
           "showlakes": true,
           "showland": true,
           "subunitcolor": "white"
          },
          "hoverlabel": {
           "align": "left"
          },
          "hovermode": "closest",
          "mapbox": {
           "style": "light"
          },
          "paper_bgcolor": "white",
          "plot_bgcolor": "#E5ECF6",
          "polar": {
           "angularaxis": {
            "gridcolor": "white",
            "linecolor": "white",
            "ticks": ""
           },
           "bgcolor": "#E5ECF6",
           "radialaxis": {
            "gridcolor": "white",
            "linecolor": "white",
            "ticks": ""
           }
          },
          "scene": {
           "xaxis": {
            "backgroundcolor": "#E5ECF6",
            "gridcolor": "white",
            "gridwidth": 2,
            "linecolor": "white",
            "showbackground": true,
            "ticks": "",
            "zerolinecolor": "white"
           },
           "yaxis": {
            "backgroundcolor": "#E5ECF6",
            "gridcolor": "white",
            "gridwidth": 2,
            "linecolor": "white",
            "showbackground": true,
            "ticks": "",
            "zerolinecolor": "white"
           },
           "zaxis": {
            "backgroundcolor": "#E5ECF6",
            "gridcolor": "white",
            "gridwidth": 2,
            "linecolor": "white",
            "showbackground": true,
            "ticks": "",
            "zerolinecolor": "white"
           }
          },
          "shapedefaults": {
           "line": {
            "color": "#2a3f5f"
           }
          },
          "ternary": {
           "aaxis": {
            "gridcolor": "white",
            "linecolor": "white",
            "ticks": ""
           },
           "baxis": {
            "gridcolor": "white",
            "linecolor": "white",
            "ticks": ""
           },
           "bgcolor": "#E5ECF6",
           "caxis": {
            "gridcolor": "white",
            "linecolor": "white",
            "ticks": ""
           }
          },
          "title": {
           "x": 0.05
          },
          "xaxis": {
           "automargin": true,
           "gridcolor": "white",
           "linecolor": "white",
           "ticks": "",
           "title": {
            "standoff": 15
           },
           "zerolinecolor": "white",
           "zerolinewidth": 2
          },
          "yaxis": {
           "automargin": true,
           "gridcolor": "white",
           "linecolor": "white",
           "ticks": "",
           "title": {
            "standoff": 15
           },
           "zerolinecolor": "white",
           "zerolinewidth": 2
          }
         }
        },
        "xaxis": {
         "anchor": "y",
         "domain": [
          0,
          1
         ]
        },
        "xaxis2": {
         "anchor": "y2",
         "domain": [
          0,
          1
         ]
        },
        "yaxis": {
         "anchor": "x",
         "domain": [
          0.625,
          1
         ]
        },
        "yaxis2": {
         "anchor": "x2",
         "domain": [
          0,
          0.375
         ]
        }
       }
      },
      "text/html": [
       "<div>                            <div id=\"0d02e22b-b3a0-4db8-acf8-91dece0cb117\" class=\"plotly-graph-div\" style=\"height:525px; width:100%;\"></div>            <script type=\"text/javascript\">                require([\"plotly\"], function(Plotly) {                    window.PLOTLYENV=window.PLOTLYENV || {};                                    if (document.getElementById(\"0d02e22b-b3a0-4db8-acf8-91dece0cb117\")) {                    Plotly.newPlot(                        \"0d02e22b-b3a0-4db8-acf8-91dece0cb117\",                        [{\"name\":\"costs\",\"type\":\"scatter\",\"x\":[1,2,3,4,5,6,7,8,9,10,11,12,13,14,15,16,17,18,19,20,21,22,23,24,25,26,27,28,29,30,31,32,33,34,35,36,37,38,39,40,41,42,43,44],\"xaxis\":\"x\",\"y\":[8780.0,16980.0,10980.0,2160.0,14000.0,8760.0,35600.0,2220.0,20500.0,2400.0,18900.0,23280.0,2320.0,32400.0,2400.0,33760.0,11760.0,34000.0,2400.0,16020.0,6000.0,25760.0,2400.0,17420.0,11200.0,4100.0,5280.0,8860.0,2360.0,9700.0,3080.0,9240.0,2260.0,9260.0,2400.0,2200.0,2060.0,21320.0,2400.0,8620.0,2280.0,13520.0,5160.0,2000.0],\"yaxis\":\"y\"},{\"name\":\"demand\",\"type\":\"bar\",\"x\":[1,2,3,4,5,6,7,8,9,10,11,12,13,14,15,16,17,18,19,20,21,22,23,24,25,26,27,28,29,30,31,32,33,34,35,36,37,38,39,40,41,42,43,44],\"xaxis\":\"x\",\"y\":[22,27,25,8,0,26,24,11,5,3,29,3,16,18,16,17,29,30,3,15,24,16,19,23,20,1,12,21,18,15,2,26,13,13,10,7,3,26,13,2,14,4,23,17],\"yaxis\":\"y\"},{\"name\":\"storage capacity\",\"type\":\"scatter\",\"x\":[1,2,3,4,5,6,7,8,9,10,11,12,13,14,15,16,17,18,19,20,21,22,23,24,25,26,27,28,29,30,31,32,33,34,35,36,37,38,39,40,41,42,43,44],\"xaxis\":\"x2\",\"y\":[5.0,0.0,0.0,12.0,20.0,0.0,20.0,9.0,20.0,0.0,3.0,20.0,4.0,20.0,0.0,16.0,0.0,20.0,0.0,3.0,0.0,20.0,0.0,19.0,20.0,20.0,0.0,0.0,2.0,20.0,0.0,0.0,7.0,20.0,0.0,10.0,17.0,20.0,0.0,13.0,6.0,20.0,0.0,20.0],\"yaxis\":\"y2\"},{\"name\":\"production capacity\",\"type\":\"scatter\",\"x\":[1,2,3,4,5,6,7,8,9,10,11,12,13,14,15,16,17,18,19,20,21,22,23,24,25,26,27,28,29,30,31,32,33,34,35,36,37,38,39,40,41,42,43,44],\"xaxis\":\"x2\",\"y\":[23.0,23.0,37.0,50.0,30.0,44.0,15.0,50.0,25.0,50.0,38.0,31.0,50.0,12.0,50.0,17.0,41.0,0.0,50.0,32.0,46.0,14.0,50.0,28.0,30.0,29.0,38.0,31.0,50.0,15.0,48.0,31.0,50.0,17.0,50.0,50.0,50.0,4.0,50.0,41.0,50.0,26.0,47.0,50.0],\"yaxis\":\"y2\"}],                        {\"annotations\":[{\"font\":{\"size\":16},\"showarrow\":false,\"text\":\"Demand and costs for each time period t\",\"x\":0.5,\"xanchor\":\"center\",\"xref\":\"paper\",\"y\":1.0,\"yanchor\":\"bottom\",\"yref\":\"paper\"},{\"font\":{\"size\":16},\"showarrow\":false,\"text\":\"Storage and production capacity for each time period t\",\"x\":0.5,\"xanchor\":\"center\",\"xref\":\"paper\",\"y\":0.375,\"yanchor\":\"bottom\",\"yref\":\"paper\"}],\"template\":{\"data\":{\"bar\":[{\"error_x\":{\"color\":\"#2a3f5f\"},\"error_y\":{\"color\":\"#2a3f5f\"},\"marker\":{\"line\":{\"color\":\"#E5ECF6\",\"width\":0.5},\"pattern\":{\"fillmode\":\"overlay\",\"size\":10,\"solidity\":0.2}},\"type\":\"bar\"}],\"barpolar\":[{\"marker\":{\"line\":{\"color\":\"#E5ECF6\",\"width\":0.5},\"pattern\":{\"fillmode\":\"overlay\",\"size\":10,\"solidity\":0.2}},\"type\":\"barpolar\"}],\"carpet\":[{\"aaxis\":{\"endlinecolor\":\"#2a3f5f\",\"gridcolor\":\"white\",\"linecolor\":\"white\",\"minorgridcolor\":\"white\",\"startlinecolor\":\"#2a3f5f\"},\"baxis\":{\"endlinecolor\":\"#2a3f5f\",\"gridcolor\":\"white\",\"linecolor\":\"white\",\"minorgridcolor\":\"white\",\"startlinecolor\":\"#2a3f5f\"},\"type\":\"carpet\"}],\"choropleth\":[{\"colorbar\":{\"outlinewidth\":0,\"ticks\":\"\"},\"type\":\"choropleth\"}],\"contour\":[{\"colorbar\":{\"outlinewidth\":0,\"ticks\":\"\"},\"colorscale\":[[0.0,\"#0d0887\"],[0.1111111111111111,\"#46039f\"],[0.2222222222222222,\"#7201a8\"],[0.3333333333333333,\"#9c179e\"],[0.4444444444444444,\"#bd3786\"],[0.5555555555555556,\"#d8576b\"],[0.6666666666666666,\"#ed7953\"],[0.7777777777777778,\"#fb9f3a\"],[0.8888888888888888,\"#fdca26\"],[1.0,\"#f0f921\"]],\"type\":\"contour\"}],\"contourcarpet\":[{\"colorbar\":{\"outlinewidth\":0,\"ticks\":\"\"},\"type\":\"contourcarpet\"}],\"heatmap\":[{\"colorbar\":{\"outlinewidth\":0,\"ticks\":\"\"},\"colorscale\":[[0.0,\"#0d0887\"],[0.1111111111111111,\"#46039f\"],[0.2222222222222222,\"#7201a8\"],[0.3333333333333333,\"#9c179e\"],[0.4444444444444444,\"#bd3786\"],[0.5555555555555556,\"#d8576b\"],[0.6666666666666666,\"#ed7953\"],[0.7777777777777778,\"#fb9f3a\"],[0.8888888888888888,\"#fdca26\"],[1.0,\"#f0f921\"]],\"type\":\"heatmap\"}],\"heatmapgl\":[{\"colorbar\":{\"outlinewidth\":0,\"ticks\":\"\"},\"colorscale\":[[0.0,\"#0d0887\"],[0.1111111111111111,\"#46039f\"],[0.2222222222222222,\"#7201a8\"],[0.3333333333333333,\"#9c179e\"],[0.4444444444444444,\"#bd3786\"],[0.5555555555555556,\"#d8576b\"],[0.6666666666666666,\"#ed7953\"],[0.7777777777777778,\"#fb9f3a\"],[0.8888888888888888,\"#fdca26\"],[1.0,\"#f0f921\"]],\"type\":\"heatmapgl\"}],\"histogram\":[{\"marker\":{\"pattern\":{\"fillmode\":\"overlay\",\"size\":10,\"solidity\":0.2}},\"type\":\"histogram\"}],\"histogram2d\":[{\"colorbar\":{\"outlinewidth\":0,\"ticks\":\"\"},\"colorscale\":[[0.0,\"#0d0887\"],[0.1111111111111111,\"#46039f\"],[0.2222222222222222,\"#7201a8\"],[0.3333333333333333,\"#9c179e\"],[0.4444444444444444,\"#bd3786\"],[0.5555555555555556,\"#d8576b\"],[0.6666666666666666,\"#ed7953\"],[0.7777777777777778,\"#fb9f3a\"],[0.8888888888888888,\"#fdca26\"],[1.0,\"#f0f921\"]],\"type\":\"histogram2d\"}],\"histogram2dcontour\":[{\"colorbar\":{\"outlinewidth\":0,\"ticks\":\"\"},\"colorscale\":[[0.0,\"#0d0887\"],[0.1111111111111111,\"#46039f\"],[0.2222222222222222,\"#7201a8\"],[0.3333333333333333,\"#9c179e\"],[0.4444444444444444,\"#bd3786\"],[0.5555555555555556,\"#d8576b\"],[0.6666666666666666,\"#ed7953\"],[0.7777777777777778,\"#fb9f3a\"],[0.8888888888888888,\"#fdca26\"],[1.0,\"#f0f921\"]],\"type\":\"histogram2dcontour\"}],\"mesh3d\":[{\"colorbar\":{\"outlinewidth\":0,\"ticks\":\"\"},\"type\":\"mesh3d\"}],\"parcoords\":[{\"line\":{\"colorbar\":{\"outlinewidth\":0,\"ticks\":\"\"}},\"type\":\"parcoords\"}],\"pie\":[{\"automargin\":true,\"type\":\"pie\"}],\"scatter\":[{\"marker\":{\"colorbar\":{\"outlinewidth\":0,\"ticks\":\"\"}},\"type\":\"scatter\"}],\"scatter3d\":[{\"line\":{\"colorbar\":{\"outlinewidth\":0,\"ticks\":\"\"}},\"marker\":{\"colorbar\":{\"outlinewidth\":0,\"ticks\":\"\"}},\"type\":\"scatter3d\"}],\"scattercarpet\":[{\"marker\":{\"colorbar\":{\"outlinewidth\":0,\"ticks\":\"\"}},\"type\":\"scattercarpet\"}],\"scattergeo\":[{\"marker\":{\"colorbar\":{\"outlinewidth\":0,\"ticks\":\"\"}},\"type\":\"scattergeo\"}],\"scattergl\":[{\"marker\":{\"colorbar\":{\"outlinewidth\":0,\"ticks\":\"\"}},\"type\":\"scattergl\"}],\"scattermapbox\":[{\"marker\":{\"colorbar\":{\"outlinewidth\":0,\"ticks\":\"\"}},\"type\":\"scattermapbox\"}],\"scatterpolar\":[{\"marker\":{\"colorbar\":{\"outlinewidth\":0,\"ticks\":\"\"}},\"type\":\"scatterpolar\"}],\"scatterpolargl\":[{\"marker\":{\"colorbar\":{\"outlinewidth\":0,\"ticks\":\"\"}},\"type\":\"scatterpolargl\"}],\"scatterternary\":[{\"marker\":{\"colorbar\":{\"outlinewidth\":0,\"ticks\":\"\"}},\"type\":\"scatterternary\"}],\"surface\":[{\"colorbar\":{\"outlinewidth\":0,\"ticks\":\"\"},\"colorscale\":[[0.0,\"#0d0887\"],[0.1111111111111111,\"#46039f\"],[0.2222222222222222,\"#7201a8\"],[0.3333333333333333,\"#9c179e\"],[0.4444444444444444,\"#bd3786\"],[0.5555555555555556,\"#d8576b\"],[0.6666666666666666,\"#ed7953\"],[0.7777777777777778,\"#fb9f3a\"],[0.8888888888888888,\"#fdca26\"],[1.0,\"#f0f921\"]],\"type\":\"surface\"}],\"table\":[{\"cells\":{\"fill\":{\"color\":\"#EBF0F8\"},\"line\":{\"color\":\"white\"}},\"header\":{\"fill\":{\"color\":\"#C8D4E3\"},\"line\":{\"color\":\"white\"}},\"type\":\"table\"}]},\"layout\":{\"annotationdefaults\":{\"arrowcolor\":\"#2a3f5f\",\"arrowhead\":0,\"arrowwidth\":1},\"autotypenumbers\":\"strict\",\"coloraxis\":{\"colorbar\":{\"outlinewidth\":0,\"ticks\":\"\"}},\"colorscale\":{\"diverging\":[[0,\"#8e0152\"],[0.1,\"#c51b7d\"],[0.2,\"#de77ae\"],[0.3,\"#f1b6da\"],[0.4,\"#fde0ef\"],[0.5,\"#f7f7f7\"],[0.6,\"#e6f5d0\"],[0.7,\"#b8e186\"],[0.8,\"#7fbc41\"],[0.9,\"#4d9221\"],[1,\"#276419\"]],\"sequential\":[[0.0,\"#0d0887\"],[0.1111111111111111,\"#46039f\"],[0.2222222222222222,\"#7201a8\"],[0.3333333333333333,\"#9c179e\"],[0.4444444444444444,\"#bd3786\"],[0.5555555555555556,\"#d8576b\"],[0.6666666666666666,\"#ed7953\"],[0.7777777777777778,\"#fb9f3a\"],[0.8888888888888888,\"#fdca26\"],[1.0,\"#f0f921\"]],\"sequentialminus\":[[0.0,\"#0d0887\"],[0.1111111111111111,\"#46039f\"],[0.2222222222222222,\"#7201a8\"],[0.3333333333333333,\"#9c179e\"],[0.4444444444444444,\"#bd3786\"],[0.5555555555555556,\"#d8576b\"],[0.6666666666666666,\"#ed7953\"],[0.7777777777777778,\"#fb9f3a\"],[0.8888888888888888,\"#fdca26\"],[1.0,\"#f0f921\"]]},\"colorway\":[\"#636efa\",\"#EF553B\",\"#00cc96\",\"#ab63fa\",\"#FFA15A\",\"#19d3f3\",\"#FF6692\",\"#B6E880\",\"#FF97FF\",\"#FECB52\"],\"font\":{\"color\":\"#2a3f5f\"},\"geo\":{\"bgcolor\":\"white\",\"lakecolor\":\"white\",\"landcolor\":\"#E5ECF6\",\"showlakes\":true,\"showland\":true,\"subunitcolor\":\"white\"},\"hoverlabel\":{\"align\":\"left\"},\"hovermode\":\"closest\",\"mapbox\":{\"style\":\"light\"},\"paper_bgcolor\":\"white\",\"plot_bgcolor\":\"#E5ECF6\",\"polar\":{\"angularaxis\":{\"gridcolor\":\"white\",\"linecolor\":\"white\",\"ticks\":\"\"},\"bgcolor\":\"#E5ECF6\",\"radialaxis\":{\"gridcolor\":\"white\",\"linecolor\":\"white\",\"ticks\":\"\"}},\"scene\":{\"xaxis\":{\"backgroundcolor\":\"#E5ECF6\",\"gridcolor\":\"white\",\"gridwidth\":2,\"linecolor\":\"white\",\"showbackground\":true,\"ticks\":\"\",\"zerolinecolor\":\"white\"},\"yaxis\":{\"backgroundcolor\":\"#E5ECF6\",\"gridcolor\":\"white\",\"gridwidth\":2,\"linecolor\":\"white\",\"showbackground\":true,\"ticks\":\"\",\"zerolinecolor\":\"white\"},\"zaxis\":{\"backgroundcolor\":\"#E5ECF6\",\"gridcolor\":\"white\",\"gridwidth\":2,\"linecolor\":\"white\",\"showbackground\":true,\"ticks\":\"\",\"zerolinecolor\":\"white\"}},\"shapedefaults\":{\"line\":{\"color\":\"#2a3f5f\"}},\"ternary\":{\"aaxis\":{\"gridcolor\":\"white\",\"linecolor\":\"white\",\"ticks\":\"\"},\"baxis\":{\"gridcolor\":\"white\",\"linecolor\":\"white\",\"ticks\":\"\"},\"bgcolor\":\"#E5ECF6\",\"caxis\":{\"gridcolor\":\"white\",\"linecolor\":\"white\",\"ticks\":\"\"}},\"title\":{\"x\":0.05},\"xaxis\":{\"automargin\":true,\"gridcolor\":\"white\",\"linecolor\":\"white\",\"ticks\":\"\",\"title\":{\"standoff\":15},\"zerolinecolor\":\"white\",\"zerolinewidth\":2},\"yaxis\":{\"automargin\":true,\"gridcolor\":\"white\",\"linecolor\":\"white\",\"ticks\":\"\",\"title\":{\"standoff\":15},\"zerolinecolor\":\"white\",\"zerolinewidth\":2}}},\"xaxis\":{\"anchor\":\"y\",\"domain\":[0.0,1.0]},\"xaxis2\":{\"anchor\":\"y2\",\"domain\":[0.0,1.0]},\"yaxis\":{\"anchor\":\"x\",\"domain\":[0.625,1.0]},\"yaxis2\":{\"anchor\":\"x2\",\"domain\":[0.0,0.375]}},                        {\"responsive\": true}                    ).then(function(){\n",
       "                            \n",
       "var gd = document.getElementById('0d02e22b-b3a0-4db8-acf8-91dece0cb117');\n",
       "var x = new MutationObserver(function (mutations, observer) {{\n",
       "        var display = window.getComputedStyle(gd).display;\n",
       "        if (!display || display === 'none') {{\n",
       "            console.log([gd, 'removed!']);\n",
       "            Plotly.purge(gd);\n",
       "            observer.disconnect();\n",
       "        }}\n",
       "}});\n",
       "\n",
       "// Listen for the removal of the full notebook cells\n",
       "var notebookContainer = gd.closest('#notebook-container');\n",
       "if (notebookContainer) {{\n",
       "    x.observe(notebookContainer, {childList: true});\n",
       "}}\n",
       "\n",
       "// Listen for the clearing of the current output cell\n",
       "var outputEl = gd.closest('.output');\n",
       "if (outputEl) {{\n",
       "    x.observe(outputEl, {childList: true});\n",
       "}}\n",
       "\n",
       "                        })                };                });            </script>        </div>"
      ]
     },
     "metadata": {},
     "output_type": "display_data"
    }
   ],
   "source": [
    "fig2 = make_subplots(rows=2, cols=1,  subplot_titles=(\"Demand and costs for each time period t\", \"Storage and production capacity for each time period t\"))\n",
    "\n",
    "fig2.append_trace(go.Scatter(\n",
    "    x=df[\"t\"], \n",
    "    y=(df[\"producing\"]*c_setup+df[\"production\"]*df[\"costs\"]+df[\"storage\"]*c_storage), \n",
    "    name=\"costs\"\n",
    "), row=1, col=1)\n",
    "\n",
    "fig2.append_trace(go.Bar(\n",
    "    x=df[\"t\"], \n",
    "    y=(df[\"demand\"]), \n",
    "    name=\"demand\"\n",
    "), row=1, col=1)\n",
    "\n",
    "\n",
    "fig2.append_trace(go.Scatter(\n",
    "    x=df[\"t\"], \n",
    "    y=(s_max-df[\"storage\"]), \n",
    "    name=\"storage capacity\"\n",
    "), row=2, col=1)\n",
    "\n",
    "fig2.append_trace(go.Scatter(\n",
    "    x=df[\"t\"], \n",
    "    y=(p_max-df[\"production\"]), \n",
    "    name=\"production capacity\"\n",
    "), row=2, col=1)\n",
    "\n",
    "fig2.show()"
   ]
  }
 ],
 "metadata": {
  "kernelspec": {
   "display_name": "Python 3 (ipykernel)",
   "language": "python",
   "name": "python3"
  },
  "language_info": {
   "codemirror_mode": {
    "name": "ipython",
    "version": 3
   },
   "file_extension": ".py",
   "mimetype": "text/x-python",
   "name": "python",
   "nbconvert_exporter": "python",
   "pygments_lexer": "ipython3",
   "version": "3.9.7"
  },
  "vscode": {
   "interpreter": {
    "hash": "b14210467f0ca0a051694578c14c62d7ab066db3d807d96d7def9705526b02c0"
   }
  }
 },
 "nbformat": 4,
 "nbformat_minor": 5
}
