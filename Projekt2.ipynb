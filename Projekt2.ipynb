{
 "cells": [
  {
   "cell_type": "markdown",
   "id": "831a6711-1215-4cd1-9d39-0242ef9dcd90",
   "metadata": {},
   "source": [
    "# Project 2 - Optimal Steel Production and Storage Plan "
   ]
  },
  {
   "cell_type": "markdown",
   "id": "f7e054e6-a7f6-41f1-99b7-c14b45ab91cd",
   "metadata": {
    "tags": []
   },
   "source": [
    "## Introduction to the project"
   ]
  },
  {
   "cell_type": "markdown",
   "id": "3407c00a-deb6-47d2-be13-470d163bdcf4",
   "metadata": {
    "tags": []
   },
   "source": [
    "### Objective"
   ]
  },
  {
   "cell_type": "markdown",
   "id": "a865e383-2ca5-4217-8a5d-6dd081643b73",
   "metadata": {},
   "source": [
    "The goal of the modeling is to find out at which location a charging station should be built and of what type it should be. \n",
    "\n",
    "In **task 1**, the goal is to find the location while minimizing the investment costs. \n",
    "\n",
    "In **task 2** the investment costs should still remain minimal. Furthermore, the Euclidean distance between the district and the location of the charging station, where the citizens of the district charge their vehicles, should not exceed 2 km. \n",
    "\n",
    "In **task 3**, locations for charging stations are to be selected in such a way that a maximum of €1.8 million in investment costs is not exceeded. Here, too, the maximum distance between the district and the charging station serving the district should not exceed 2 km. "
   ]
  },
  {
   "cell_type": "markdown",
   "id": "8eb2c7a1-d608-40e9-9d49-c32678535142",
   "metadata": {
    "tags": []
   },
   "source": [
    "### Data set"
   ]
  },
  {
   "cell_type": "markdown",
   "id": "24658c13-cf48-476e-9c5b-040a99d102a4",
   "metadata": {},
   "source": [
    "The dataset consists of two csv files: \n",
    "\n",
    "* 'production_data.csv':<br />\n",
    "    Contains the numbers and coordinates of possible locations for\n",
    "    charging stations.\n",
    "\n",
    "* 'actuals.csv':<br />\n",
    "    Contains the coordinates as well as the demand from the districts.\n"
   ]
  },
  {
   "cell_type": "markdown",
   "id": "a3edb5d8-45cf-442d-bab0-a40db9e3af67",
   "metadata": {
    "tags": []
   },
   "source": [
    "## Mathematical Modeling"
   ]
  },
  {
   "cell_type": "markdown",
   "id": "8821152d-82b9-4b5b-b108-6d78018002b1",
   "metadata": {},
   "source": [
    "Every model consists of five essential parts. \n",
    "\n",
    "1. The *index set* is introduced to ensure consistent numbering of parameters and decision variables. It's the same for every task.\n",
    "2. The *parameters* control the operation of the Gurobi solvers. They must be modified before the optimization begins.\n",
    "3. The *decision variables* are the variables we're interested in. The aim of the optimization is to get values for the decision variables so the objective function is minimized / maximized.\n",
    "4. The *objective function* is the function which has to be minimized or maximized.\n",
    "5. The *constraints* limit the possible solution set of the objective function to get appropriate values for the decision variables according to the framework. \n",
    "\n",
    "In the following, the model consisting of these five parts can be viewed for each of the tasks. The index set is not subject to change here."
   ]
  },
  {
   "cell_type": "markdown",
   "id": "18fe7b78-6638-4f53-bda9-4779262c4cdd",
   "metadata": {
    "tags": []
   },
   "source": [
    "### Task 1"
   ]
  },
  {
   "cell_type": "markdown",
   "id": "bff53157-e1f9-4471-83c3-84360401f6b2",
   "metadata": {
    "tags": []
   },
   "source": [
    "#### Index sets"
   ]
  },
  {
   "cell_type": "markdown",
   "id": "b25f6478-705e-4893-9865-fe48e1b6dc15",
   "metadata": {},
   "source": [
    "$T = \\{1...44\\}$: Set of timesteps."
   ]
  },
  {
   "cell_type": "markdown",
   "id": "b5ab2152-3720-4077-b390-6b8b80e21e41",
   "metadata": {
    "tags": []
   },
   "source": [
    "#### Parameters"
   ]
  },
  {
   "cell_type": "markdown",
   "id": "494ceed0-ef7d-43e8-a41c-f7853da0b444",
   "metadata": {},
   "source": [
    "$d_t \\in \\mathbb{N}_0$: Demand in period $t$.\n",
    "\n",
    "$c_t \\in \\mathbb{N}$ Production cost per unit in period $t$.\n",
    "\n",
    "$c_{setup} = 2000$: Setup cost if production is running $.\n",
    "\n",
    "$c_{storage} = 20$: Cost of storing a ton of steel $.\n",
    "\n",
    "$rev = 1000$: Revenue per ton of steel $.\n",
    "\n",
    "$s_{max} = 20$: Maximum storage size.\n",
    "\n",
    "$s_0 = 15$: Initial stored amount.\n",
    "\n",
    "$p_{max} = 50$: Production limit per period."
   ]
  },
  {
   "cell_type": "markdown",
   "id": "81d4f791-9a5b-431b-a7b8-8efb64bab946",
   "metadata": {},
   "source": [
    "#### Decision variables"
   ]
  },
  {
   "cell_type": "markdown",
   "id": "310c8ca9-c74e-4b8a-9946-fe3f70484fa2",
   "metadata": {},
   "source": [
    "$s_{t} \\in \\mathbb{N_0}$: Stored amount in period $t$.\n",
    "\n",
    "$s_{t}^{+} \\in \\mathbb{N_0}$: Amount sent to storage in period t.\n",
    "\n",
    "$s_{t}^{-} \\in \\mathbb{N_0}$: Amount withdrawn from storage in period t.\n",
    "\n",
    "$p_{t} \\in \\mathbb{N_0}$: Produced amount in period t.\n",
    "\n",
    "$producing_{t} =\n",
    "\\begin{cases}\n",
    "    1, & \\text{if } p_{t} > 0. \\\\\n",
    "    0, & \\text{if } p_{t} = 0.\n",
    "\\end{cases}$"
   ]
  },
  {
   "cell_type": "markdown",
   "id": "b5509f60-b839-4e28-bd67-d9a84e2c374d",
   "metadata": {},
   "source": [
    "#### Objective function"
   ]
  },
  {
   "cell_type": "markdown",
   "id": "fc019597-b72e-4046-8eeb-301b6fdcde10",
   "metadata": {},
   "source": [
    "- **Costs**. Minimize investment costs.\n",
    " \n",
    "\n",
    "\\begin{equation}\n",
    "\\text{Max}\\quad Z = \n",
    "\\sum_{t=1}^{T}\n",
    "rev*(p_{t}+s_{t}^{-}-s_{t}^{+})\n",
    "-producing_{t}*c_{setup}\n",
    "-p_{t}*\\bar{c_{t}}\n",
    "-s_{t}*c\\_storage\n",
    "\\tag{0}\n",
    "\\end{equation}"
   ]
  },
  {
   "cell_type": "markdown",
   "id": "a1c21d2b-ce16-46d5-b2be-1a3a2ea3c841",
   "metadata": {},
   "source": [
    "#### Constraints"
   ]
  },
  {
   "cell_type": "markdown",
   "id": "865d8b86-f67f-443c-90b3-6dd747b51e3b",
   "metadata": {},
   "source": [
    "- **Delivery**. Delivered amount should equal demand\n",
    "\\begin{equation}\n",
    "d_t = (p_{t}+s_{t}^{-}-s_{t}^{+})\\enspace \\forall t \n",
    "\\tag{1}\n",
    "\\end{equation}\n",
    "\n",
    "- **Production**. Production may never excede $p_{max}$\n",
    "\n",
    "\\begin{equation}\n",
    "0 \\leq p_t \\leq p_{max} \\enspace \\forall t\n",
    "\\tag{2}\n",
    "\\end{equation}\n",
    "\n",
    "- **Storage**. The stored amount may never fall below 0 or rise above $s_{max}$\n",
    "\n",
    "\\begin{equation}\n",
    "0\\leq s_t \\leq s_{max} \\enspace \\forall t\n",
    "\\tag{3}\n",
    "\\end{equation}\n",
    "\n",
    "- **Continuity**. Storage amount has to be consistent in time.\n",
    "\n",
    "\\begin{equation}\n",
    "s_t = s_{t-1} + s_{t-1}^+ - s_{t-1}^- \\enspace \\forall t\n",
    "\\tag{4}\n",
    "\\end{equation}"
   ]
  },
  {
   "cell_type": "markdown",
   "id": "f2bad67a-8db1-4752-ab96-b1b3f3973726",
   "metadata": {
    "tags": []
   },
   "source": [
    "### Task 2"
   ]
  },
  {
   "cell_type": "markdown",
   "id": "f4e4b700-7a1d-434c-9432-48d557a8997b",
   "metadata": {
    "tags": []
   },
   "source": [
    "#### Index sets"
   ]
  },
  {
   "cell_type": "markdown",
   "id": "fe05a116-35f8-49f6-ba64-c11ec6789aea",
   "metadata": {},
   "source": [
    "$T \\in \\{1...44\\}$: Index and set of districts."
   ]
  },
  {
   "cell_type": "markdown",
   "id": "02e99015-384a-41df-a598-71f408965bff",
   "metadata": {
    "tags": []
   },
   "source": [
    "#### Parameters"
   ]
  },
  {
   "cell_type": "markdown",
   "id": "9e49057a-1bad-4566-aa58-669123af6a03",
   "metadata": {},
   "source": [
    "$d_t \\in \\mathbb{N}_0$: Demand in period $t$.\n",
    "\n",
    "$c_t \\in \\mathbb{N}$ Production cost per unit in period $t$.\n",
    "\n",
    "$c_{setup} = 2000$: Setup cost if production is running $.\n",
    "\n",
    "$c_{storage} = 20$: Cost of storing a ton of steel $.\n",
    "\n",
    "$rev = 1000$: Revenue per ton of steel $.\n",
    "\n",
    "$s_{max} = 20$: Maximum storage size.\n",
    "\n",
    "$s_0 = 15$: Initial stored amount.\n",
    "\n",
    "$p_{max} = 50$: Production limit per period."
   ]
  },
  {
   "cell_type": "markdown",
   "id": "b36db4c4-2478-403d-a0d2-4b6105f57f5d",
   "metadata": {},
   "source": [
    "#### Decision variables"
   ]
  },
  {
   "cell_type": "markdown",
   "id": "513d72ed-f867-4893-85b0-be5e2bcd41c8",
   "metadata": {},
   "source": [
    "$s_{t} \\in \\mathbb{N_0}$: Stored amount in period $t$.\n",
    "\n",
    "$s_{t}^{+} \\in \\mathbb{N_0}$: Amount sent to storage in period t.\n",
    "\n",
    "$s_{t}^{-} \\in \\mathbb{N_0}$: Amount withdrawn from storage in period t.\n",
    "\n",
    "$p_{t} \\in \\mathbb{N_0}$: Produced amount in period t.\n",
    "\n",
    "$producing_{t} =\n",
    "\\begin{cases}\n",
    "    1, & \\text{if } p_{t} > 0. \\\\\n",
    "    0, & \\text{if } p_{t} = 0.\n",
    "\\end{cases}$"
   ]
  },
  {
   "cell_type": "markdown",
   "id": "b6147eec-8c3e-4483-bbb3-86c2748ab603",
   "metadata": {},
   "source": [
    "#### Objective function"
   ]
  },
  {
   "cell_type": "markdown",
   "id": "ba44143a-ccd6-42ea-925d-3d155a9ad180",
   "metadata": {},
   "source": [
    "- **Costs**. Minimize investment costs.\n",
    " \n",
    "\n",
    "\\begin{equation}\n",
    "\\text{Max}\\quad Z = \n",
    "\\sum_{t=1}^{T}\n",
    "rev*(p_{t}+s_{t}^{-}-s_{t}^{+})\n",
    "-producing_{t}*c_{setup}\n",
    "-p_{t}*c_{t}\n",
    "-s_{t}*c\\_storage\n",
    "\\tag{0}\n",
    "\\end{equation}"
   ]
  },
  {
   "cell_type": "markdown",
   "id": "70106db2-63d1-4769-8b22-9d375e750f24",
   "metadata": {},
   "source": [
    "#### Constraints"
   ]
  },
  {
   "cell_type": "markdown",
   "id": "cc6f5056-7b0f-4ae8-973a-2278b69bac3d",
   "metadata": {},
   "source": [
    "- **Delivery**. Delivered amount should equal demand\n",
    "\\begin{equation}\n",
    "d_t = (p_{t}+s_{t}^{-}-s_{t}^{+})\\enspace \\forall t \n",
    "\\tag{1}\n",
    "\\end{equation}\n",
    "\n",
    "- **Production**. Production may never excede $p_{max}$\n",
    "\n",
    "\\begin{equation}\n",
    "0 \\leq p_t \\leq p_{max} \\enspace \\forall t\n",
    "\\tag{2}\n",
    "\\end{equation}\n",
    "\n",
    "- **Storage**. The stored amount may never fall below 0 or rise above $s_{max}$\n",
    "\n",
    "\\begin{equation}\n",
    "0\\leq s_t \\leq s_{max} \\enspace \\forall t\n",
    "\\tag{3}\n",
    "\\end{equation}\n",
    "\n",
    "- **Continuity**. Storage amount has to be consistent in time.\n",
    "\n",
    "\\begin{equation}\n",
    "s_t = s_{t-1} + s_{t-1}^+ - s_{t-1}^- \\enspace \\forall t\n",
    "\\tag{4}\n",
    "\\end{equation}"
   ]
  },
  {
   "cell_type": "markdown",
   "id": "ef4df9f2-0e1c-4274-993a-2baec00bbfc8",
   "metadata": {
    "tags": []
   },
   "source": [
    "### Task 3"
   ]
  },
  {
   "cell_type": "markdown",
   "id": "fa7d1730-7ddf-433a-b0ff-d75ac739c0f4",
   "metadata": {
    "tags": []
   },
   "source": [
    "#### Index sets"
   ]
  },
  {
   "cell_type": "markdown",
   "id": "e6ae3580-9fdd-4c59-b3a4-a831a1309810",
   "metadata": {},
   "source": [
    "$T \\in \\{1...44\\}$: Index and set of districts."
   ]
  },
  {
   "cell_type": "markdown",
   "id": "7380fad6-57e7-49b1-8be2-2bdb97a9967d",
   "metadata": {
    "tags": []
   },
   "source": [
    "#### Parameters"
   ]
  },
  {
   "cell_type": "markdown",
   "id": "9f046b18-8ed8-414f-9d4e-0734b6cfaeb0",
   "metadata": {},
   "source": [
    "$d_t \\in \\mathbb{N}_0$: Demand in period $t$.\n",
    "\n",
    "$c_t \\in \\mathbb{N}$ Production cost per unit in period $t$.\n",
    "\n",
    "$c_{setup} = 2000$: Setup cost if production is running $.\n",
    "\n",
    "$c_{storage} = 20$: Cost of storing a ton of steel $.\n",
    "\n",
    "$f_{storage} = 1000$: Fee per ton of additional storage booked.\n",
    "\n",
    "$rev = 1000$: Revenue per ton of steel $.\n",
    "\n",
    "$s_{max} \\in \\mathbb{N} > 20$: Maximum storage size.\n",
    "\n",
    "$s_0 = 15$: Initial stored amount.\n",
    "\n",
    "$p_{max} = 50$: Production limit per period."
   ]
  },
  {
   "cell_type": "markdown",
   "id": "567296cc-2fe1-43ea-8952-153eb57de8f2",
   "metadata": {},
   "source": [
    "#### Decision variables"
   ]
  },
  {
   "cell_type": "markdown",
   "id": "8fb914e7-dc57-4553-8b6b-4429f2bf6da5",
   "metadata": {},
   "source": [
    "$s_{t} \\in \\mathbb{N_0}$: Stored amount in period $t$.\n",
    "\n",
    "$s_{t}^{+} \\in \\mathbb{N_0}$: Amount sent to storage in period t.\n",
    "\n",
    "$s_{t}^{-} \\in \\mathbb{N_0}$: Amount withdrawn from storage in period t.\n",
    "\n",
    "$p_{t} \\in \\mathbb{N_0}$: Produced amount in period t.\n",
    "\n",
    "$producing_{t} =\n",
    "\\begin{cases}\n",
    "    1, & \\text{if } p_{t} > 0. \\\\\n",
    "    0, & \\text{if } p_{t} = 0.\n",
    "\\end{cases}$"
   ]
  },
  {
   "cell_type": "markdown",
   "id": "fa4614c0-908f-429f-a72d-95f8c5a60220",
   "metadata": {},
   "source": [
    "#### Objective function"
   ]
  },
  {
   "cell_type": "markdown",
   "id": "5e6f867c-cffe-47a3-9b5a-7a73efb16778",
   "metadata": {},
   "source": [
    "- **Costs**. Minimize investment costs.\n",
    " \n",
    "\n",
    "\\begin{equation}\n",
    "\\text{Max}\\quad Z = \n",
    "\\sum_{t=1}^{T}(\n",
    "rev*(p_{t}+s_{t}^{-}-s_{t}^{+})\n",
    "-producing_{t}*c_{setup}\n",
    "-p_{t}*c_{t}\n",
    "-s_{t}*c\\_storage)\n",
    "-(s_{max}-20)*1000\n",
    "\\tag{0}\n",
    "\\end{equation}"
   ]
  },
  {
   "cell_type": "markdown",
   "id": "5baf5b53-11d3-40db-8ca2-689bc1aafa92",
   "metadata": {},
   "source": [
    "#### Constraints"
   ]
  },
  {
   "cell_type": "markdown",
   "id": "eb3a3c49-a2e7-4634-89f7-fbf24317667d",
   "metadata": {},
   "source": [
    "- **Delivery**. Delivered amount should equal demand\n",
    "\\begin{equation}\n",
    "d_t = (p_{t}+s_{t}^{-}-s_{t}^{+})\\enspace \\forall t \n",
    "\\tag{1}\n",
    "\\end{equation}\n",
    "\n",
    "- **Production**. Production may never excede $p_{max}$\n",
    "\n",
    "\\begin{equation}\n",
    "0 \\leq p_t \\leq p_{max} \\enspace \\forall t\n",
    "\\tag{2}\n",
    "\\end{equation}\n",
    "\n",
    "- **Storage**. The stored amount may never fall below 0 or rise above $s_{max}$\n",
    "\n",
    "\\begin{equation}\n",
    "0\\leq s_t \\leq s_{max} \\enspace \\forall t\n",
    "\\tag{3}\n",
    "\\end{equation}\n",
    "\n",
    "- **Continuity**. Storage amount has to be consistent in time.\n",
    "\n",
    "\\begin{equation}\n",
    "s_t = s_{t-1} + s_{t-1}^+ - s_{t-1}^- \\enspace \\forall t\n",
    "\\tag{4}\n",
    "\\end{equation}"
   ]
  },
  {
   "cell_type": "markdown",
   "id": "63ca1d20-92f3-49f4-ae87-b71508441c3e",
   "metadata": {
    "tags": []
   },
   "source": [
    "## Implementation in Python"
   ]
  },
  {
   "cell_type": "markdown",
   "id": "63d796e5-00e7-461f-972e-19c7db593903",
   "metadata": {
    "tags": []
   },
   "source": [
    "### Preparation"
   ]
  },
  {
   "cell_type": "markdown",
   "id": "22f693b5-f8ac-47f5-adc8-897f6f0dd1a3",
   "metadata": {
    "tags": []
   },
   "source": [
    "#### Necessary Imports"
   ]
  },
  {
   "cell_type": "code",
   "execution_count": 76,
   "id": "9b3fd3cf-9ad6-48d2-8cd3-06b660346d59",
   "metadata": {},
   "outputs": [],
   "source": [
    "import gurobipy as gp\n",
    "from gurobipy import GRB\n",
    "import pandas as pd\n",
    "import numpy as np\n",
    "import plotly.express as px\n",
    "import plotly.graph_objects as go\n",
    "from plotly.subplots import make_subplots"
   ]
  },
  {
   "cell_type": "markdown",
   "id": "70846619-a612-4319-8439-76cfae1b784c",
   "metadata": {
    "tags": []
   },
   "source": [
    "#### Read CSV-Files into Dataframe"
   ]
  },
  {
   "cell_type": "code",
   "execution_count": 3,
   "id": "ba47e60a-c3db-41d9-9e47-28a1f65bd5f1",
   "metadata": {},
   "outputs": [],
   "source": [
    "# Read raw data\n",
    "df_prod = pd.read_csv(\"production_data.csv\")\n",
    "df_ac = pd.read_csv(\"actuals.csv\")"
   ]
  },
  {
   "cell_type": "markdown",
   "id": "56efcbe5-988e-4a36-b4be-8f2465179856",
   "metadata": {
    "tags": []
   },
   "source": [
    "### Code for solving the tasks"
   ]
  },
  {
   "cell_type": "code",
   "execution_count": 67,
   "id": "cc8fc0da-e766-4a3a-b3a6-7a9348c2e881",
   "metadata": {},
   "outputs": [],
   "source": [
    "def solve_production(mean_cost=False, added_storage=0):\n",
    "    # Model\n",
    "    m = gp.Model('steel_production_planner')\n",
    "    # Index set\n",
    "    T = [*range(1,45)]\n",
    "    \n",
    "    # Parameters\n",
    "    d = {t:int(df_prod[df_prod[\"Zeit\"] == t][\"Bestellungen [t]\"]) for t in T}\n",
    "    c = {t:int(df_prod[df_prod[\"Zeit\"] == t][\"Produktionskosten [EUR/t]\"]) for t in T}\n",
    "    c_setup = 2000\n",
    "    c_storage = 20\n",
    "    f_storage = 1000\n",
    "    rev = 1000\n",
    "    s_max = 20+added_storage\n",
    "    s_0 = 15\n",
    "    p_max = 50\n",
    "    \n",
    "    # Decision Variables\n",
    "    s  = [*range(1,45)]\n",
    "    y_s = m.addVars(s, vtype=GRB.INTEGER, name='s', lb=0, ub=s_max)\n",
    "    s_p = [*range(1,45)]\n",
    "    y_sp = m.addVars(s_p, vtype=GRB.INTEGER, name='s_p', lb=0)\n",
    "    s_m = [*range(1,45)]\n",
    "    y_sm = m.addVars(s_m, vtype=GRB.INTEGER, name='s_m', lb=0)\n",
    "    p = [*range(1,45)]\n",
    "    y_p = m.addVars(p, vtype=GRB.INTEGER, name='p', lb=0, ub=p_max)\n",
    "    producing = {a:b>0 for a,b in zip(p, y_p)}\n",
    "    \n",
    "    # Objective Function\n",
    "    # takes the form of:\n",
    "    # + revenue\n",
    "    # - setup cost\n",
    "    # - production cost\n",
    "    # - storage cost\n",
    "    # - fee for extra storage\n",
    "    if mean_cost:\n",
    "        m.setObjective(\n",
    "            gp.quicksum(rev*(y_p[t]-y_sp[t]+y_sm[t]) for t in T) \n",
    "            - gp.quicksum(np.mean(producing[t])*c_setup for t in T)\n",
    "            - gp.quicksum(y_p[t]*c[t] for t in T)\n",
    "            - gp.quicksum(y_s[t]*c_storage for t in T)\n",
    "            - (s_max-20)*f_storage,\n",
    "            GRB.MAXIMIZE\n",
    "        )# obviously bad form to recalc mean for each evaluation of the cost function but oh well\n",
    "    else:\n",
    "        m.setObjective(\n",
    "            gp.quicksum(rev*(y_p[t]-y_sp[t]+y_sm[t]) for t in T) \n",
    "            - gp.quicksum(producing[t]*c_setup for t in T)\n",
    "            - gp.quicksum(y_p[t]*c[t] for t in T)\n",
    "            - gp.quicksum(y_s[t]*c_storage for t in T)\n",
    "            - (s_max-20)*f_storage,\n",
    "            GRB.MAXIMIZE\n",
    "        )\n",
    "        \n",
    "    # Constraints\n",
    "    deliveryConstrs = m.addConstrs((d[t] == (y_p[t]-y_sp[t]+y_sm[t]) for t in T), name=\"deliveryConstrs\")\n",
    "    # set storage at t=0 to initial storage with no storage additions or withdrawals\n",
    "    y_s[0] = s_0\n",
    "    y_sp[0] = 0\n",
    "    y_sm[0] = 0\n",
    "    continuityConstrs = m.addConstrs((y_s[t] == y_s[t-1]+y_sp[t-1]-y_sm[t-1] for t in T), name=\"contiConstrs\")\n",
    "    m.optimize()\n",
    "    \n",
    "    # Output\n",
    "    y_s.pop(0, None)\n",
    "    y_sp.pop(0, None)\n",
    "    y_sm.pop(0, None)"
   ]
  },
  {
   "cell_type": "markdown",
   "id": "ffc3e993-fc13-4d09-b218-0fc986a55ce3",
   "metadata": {
    "tags": []
   },
   "source": [
    "## Solution"
   ]
  },
  {
   "cell_type": "markdown",
   "id": "ca40e549-684b-4cb4-bac9-8377e15f5d43",
   "metadata": {
    "tags": []
   },
   "source": [
    "### Task 1"
   ]
  },
  {
   "cell_type": "markdown",
   "id": "aa46b152-1744-436c-9b2a-37515cb37966",
   "metadata": {
    "tags": []
   },
   "source": [
    "### Task 2"
   ]
  },
  {
   "cell_type": "markdown",
   "id": "d8a8fd7a-92e2-4cae-8ee2-58bb651fc7c9",
   "metadata": {
    "tags": []
   },
   "source": [
    "### Task 3"
   ]
  },
  {
   "cell_type": "code",
   "execution_count": 56,
   "id": "8794379c-bc63-4819-b7e5-699ff432ea63",
   "metadata": {},
   "outputs": [],
   "source": [
    "added_storage=0\n",
    "mean_cost=False"
   ]
  },
  {
   "cell_type": "code",
   "execution_count": 70,
   "id": "14fcf1c7-207d-4b83-9ab4-ef76463a695e",
   "metadata": {},
   "outputs": [
    {
     "name": "stdout",
     "output_type": "stream",
     "text": [
      "Gurobi Optimizer version 9.5.1 build v9.5.1rc2 (win64)\n",
      "Thread count: 4 physical cores, 8 logical processors, using up to 8 threads\n",
      "Optimize a model with 88 rows, 176 columns and 305 nonzeros\n",
      "Model fingerprint: 0x4aa95d4c\n",
      "Variable types: 0 continuous, 176 integer (0 binary)\n",
      "Coefficient statistics:\n",
      "  Matrix range     [1e+00, 1e+00]\n",
      "  Objective range  [2e+01, 1e+03]\n",
      "  Bounds range     [2e+01, 5e+01]\n",
      "  RHS range        [1e+00, 3e+01]\n",
      "Found heuristic solution: objective 92640.000000\n",
      "Presolve removed 88 rows and 176 columns\n",
      "Presolve time: 0.00s\n",
      "Presolve: All rows and columns removed\n",
      "\n",
      "Explored 0 nodes (0 simplex iterations) in 0.01 seconds (0.00 work units)\n",
      "Thread count was 1 (of 8 available processors)\n",
      "\n",
      "Solution count 2: 190500 92640 \n",
      "\n",
      "Optimal solution found (tolerance 1.00e-04)\n",
      "Best objective 1.905000000000e+05, best bound 1.905000000000e+05, gap 0.0000%\n"
     ]
    }
   ],
   "source": [
    "\n",
    "# Model\n",
    "m = gp.Model('steel_production_planner')\n",
    "# Index set\n",
    "T = [*range(1,45)]\n",
    "\n",
    "# Parameters\n",
    "d = {t:int(df_prod[df_prod[\"Zeit\"] == t][\"Bestellungen [t]\"]) for t in T}\n",
    "c = {t:int(df_prod[df_prod[\"Zeit\"] == t][\"Produktionskosten [EUR/t]\"]) for t in T}\n",
    "c_setup = 2000\n",
    "c_storage = 20\n",
    "f_storage = 1000\n",
    "rev = 1000\n",
    "s_max = 20+added_storage\n",
    "s_0 = 15\n",
    "p_max = 50\n",
    "\n",
    "# Decision Variables\n",
    "s  = [*range(1,45)]\n",
    "y_s = m.addVars(s, vtype=GRB.INTEGER, name='s', lb=0, ub=s_max)\n",
    "s_p = [*range(1,45)]\n",
    "y_sp = m.addVars(s_p, vtype=GRB.INTEGER, name='s_p', lb=0)\n",
    "s_m = [*range(1,45)]\n",
    "y_sm = m.addVars(s_m, vtype=GRB.INTEGER, name='s_m', lb=0)\n",
    "p = [*range(1,45)]\n",
    "y_p = m.addVars(p, vtype=GRB.INTEGER, name='p', lb=0, ub=p_max)\n",
    "producing = {a:b>0 for a,b in zip(p, y_p)}\n",
    "\n",
    "# Objective Function\n",
    "# takes the form of:\n",
    "# + revenue\n",
    "# - setup cost\n",
    "# - production cost\n",
    "# - storage cost\n",
    "# - fee for extra storage\n",
    "if mean_cost:\n",
    "    m.setObjective(\n",
    "        gp.quicksum(rev*(y_p[t]-y_sp[t]+y_sm[t]) for t in T) \n",
    "        - gp.quicksum(np.mean(producing[t])*c_setup for t in T)\n",
    "        - gp.quicksum(y_p[t]*c[t] for t in T)\n",
    "        - gp.quicksum(y_s[t]*c_storage for t in T)\n",
    "        - (s_max-20)*f_storage,\n",
    "        GRB.MAXIMIZE\n",
    "    )# obviously bad form to recalc mean for each evaluation of the cost function but oh well\n",
    "else:\n",
    "    m.setObjective(\n",
    "        gp.quicksum(rev*(y_p[t]-y_sp[t]+y_sm[t]) for t in T) \n",
    "        - gp.quicksum(producing[t]*c_setup for t in T)\n",
    "        - gp.quicksum(y_p[t]*c[t] for t in T)\n",
    "        - gp.quicksum(y_s[t]*c_storage for t in T)\n",
    "        - (s_max-20)*f_storage,\n",
    "        GRB.MAXIMIZE\n",
    "    )\n",
    "\n",
    "# Constraints\n",
    "deliveryConstrs = m.addConstrs((d[t] == (y_p[t]-y_sp[t]+y_sm[t]) for t in T), name=\"deliveryConstrs\")\n",
    "# set storage at t=0 to initial storage with no storage additions or withdrawals\n",
    "y_s[0] = s_0\n",
    "y_sp[0] = 0\n",
    "y_sm[0] = 0\n",
    "continuityConstrs = m.addConstrs((y_s[t] == y_s[t-1]+y_sp[t-1]-y_sm[t-1] for t in T), name=\"contiConstrs\")\n",
    "m.optimize()"
   ]
  },
  {
   "cell_type": "code",
   "execution_count": 95,
   "id": "52011dfc-14b9-4316-baaf-94c8fd8884d4",
   "metadata": {},
   "outputs": [],
   "source": [
    "y_s.pop(0, None)\n",
    "y_sp.pop(0, None)\n",
    "y_sm.pop(0, None)"
   ]
  },
  {
   "cell_type": "code",
   "execution_count": 98,
   "id": "a7ce6ce1-0006-4422-8282-68e5e94db15d",
   "metadata": {},
   "outputs": [
    {
     "data": {
      "text/plain": [
       "[15.0,\n",
       " 20.0,\n",
       " 20.0,\n",
       " 8.0,\n",
       " -0.0,\n",
       " 20.0,\n",
       " -0.0,\n",
       " 11.0,\n",
       " -0.0,\n",
       " 20.0,\n",
       " 17.0,\n",
       " -0.0,\n",
       " 16.0,\n",
       " -0.0,\n",
       " 20.0,\n",
       " 4.0,\n",
       " 20.0,\n",
       " -0.0,\n",
       " 20.0,\n",
       " 17.0,\n",
       " 20.0,\n",
       " -0.0,\n",
       " 20.0,\n",
       " 1.0,\n",
       " -0.0,\n",
       " -0.0,\n",
       " 20.0,\n",
       " 20.0,\n",
       " 18.0,\n",
       " -0.0,\n",
       " 20.0,\n",
       " 20.0,\n",
       " 13.0,\n",
       " -0.0,\n",
       " 20.0,\n",
       " 10.0,\n",
       " 3.0,\n",
       " -0.0,\n",
       " 20.0,\n",
       " 7.0,\n",
       " 14.0,\n",
       " -0.0,\n",
       " 20.0,\n",
       " -0.0]"
      ]
     },
     "execution_count": 98,
     "metadata": {},
     "output_type": "execute_result"
    }
   ],
   "source": [
    "[x.X for x in y_s.values()]"
   ]
  },
  {
   "cell_type": "code",
   "execution_count": null,
   "id": "7cfca9fa-b47b-41b5-895e-250cba3543f0",
   "metadata": {},
   "outputs": [],
   "source": []
  }
 ],
 "metadata": {
  "kernelspec": {
   "display_name": "Python 3 (ipykernel)",
   "language": "python",
   "name": "python3"
  },
  "language_info": {
   "codemirror_mode": {
    "name": "ipython",
    "version": 3
   },
   "file_extension": ".py",
   "mimetype": "text/x-python",
   "name": "python",
   "nbconvert_exporter": "python",
   "pygments_lexer": "ipython3",
   "version": "3.10.4"
  }
 },
 "nbformat": 4,
 "nbformat_minor": 5
}
